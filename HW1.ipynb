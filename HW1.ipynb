{
 "cells": [
  {
   "cell_type": "markdown",
   "metadata": {},
   "source": [
    "# Рабочая тетрадь 1. основы Python\n",
    "## Горюшко Николай\n",
    "   \n",
    "```\n",
    "Неизменяемиые объекты:\n",
    " - числовые данные(int, float),\n",
    " - bool,\n",
    " - символьные строки(класс 'str'),\n",
    " - кортежи(turple).\n",
    "Изменяемыеобъекты:\n",
    " - списки(list),\n",
    " - множества(set),\n",
    " - словари (dict).\n",
    "```"
   ]
  },
  {
   "cell_type": "markdown",
   "metadata": {},
   "source": [
    "***Пример*** Выведете на печать и определите тип переменной"
   ]
  },
  {
   "cell_type": "code",
   "execution_count": 3,
   "metadata": {},
   "outputs": [
    {
     "name": "stdout",
     "output_type": "stream",
     "text": [
      "39.4 | <class 'float'> \n",
      " None | <class 'NoneType'>\n"
     ]
    }
   ],
   "source": [
    "x = 3+5.2*7\n",
    "y = None\n",
    "print(x, '|', type(x), '\\n', y, '|', type(y),)"
   ]
  },
  {
   "cell_type": "markdown",
   "metadata": {},
   "source": [
    "***Задение*** Выведете на печать и определите тип переменной"
   ]
  },
  {
   "cell_type": "code",
   "execution_count": 5,
   "metadata": {},
   "outputs": [
    {
     "name": "stdout",
     "output_type": "stream",
     "text": [
      "True | <class 'bool'> \n",
      " {8, 1, 3, 7} | <class 'set'> \n",
      " {2, 'apple', 4, 5, 10} | <class 'set'> \n",
      " set() | <class 'set'> \n",
      " ('Антонова Антонина', 24, 'ж') | <class 'tuple'> \n",
      " type | <class 'str'> \n",
      " [1, 'title', 2, 'content'] | <class 'list'> \n",
      "\n"
     ]
    }
   ],
   "source": [
    "x= 5 >= 2\n",
    "A = {1, 3, 7, 8}\n",
    "B = {2, 4, 5, 10, 'apple'}\n",
    "C = A & B\n",
    "df = 'Антонова Антонина', 24, 'ж'\n",
    "z = 'type'\n",
    "D = [1, 'title', 2, 'content']\n",
    "print(x, \"|\", type(x), '\\n',\n",
    "     A, \"|\", type(A), '\\n',\n",
    "     B, \"|\", type(B), '\\n',\n",
    "     C, \"|\", type(C), '\\n',\n",
    "     df, \"|\", type(df), '\\n',\n",
    "     z, \"|\", type(z), '\\n',\n",
    "     D, \"|\", type(D), '\\n',)"
   ]
  },
  {
   "cell_type": "markdown",
   "metadata": {},
   "source": [
    "## Условный оператор if\n",
    "```\n",
    "if используется для проверки выполнимости или невыполнимости условий.\n",
    "Синтаксис:\n",
    "    if <условие1 (булевое выражение)>:\n",
    "        <код, который выполнится, если условие верно>\n",
    "    elif <условие2 (булевое выражение)>:\n",
    "        <код, который выполнится, если условие 1 неверно, а условие2 верно>\n",
    "    else:\n",
    "        <код, котоый выполнится, если условие1 и условие2 были нверны>\n",
    "```"
   ]
  },
  {
   "cell_type": "markdown",
   "metadata": {},
   "source": [
    "***Пример*** Вывести на экран, является ли переменная х положительнй, отрицательной или равна нулю."
   ]
  },
  {
   "cell_type": "code",
   "execution_count": 6,
   "metadata": {},
   "outputs": [
    {
     "name": "stdout",
     "output_type": "stream",
     "text": [
      "x положительный\n"
     ]
    }
   ],
   "source": [
    "x = 125\n",
    "if x<0:\n",
    "    print(\"x отрицательный\")\n",
    "elif x==0:\n",
    "    print(\"x равен нулю\")\n",
    "else:\n",
    "    print(\"x положительный\")"
   ]
  },
  {
   "cell_type": "markdown",
   "metadata": {},
   "source": [
    "***Задание*** Напишите код. Задаётся х, напечатать, какому из интервалов принадлежит:(-infinity,-5),[-5,5],или от (5,+infinity)"
   ]
  },
  {
   "cell_type": "code",
   "execution_count": 9,
   "metadata": {},
   "outputs": [
    {
     "name": "stdout",
     "output_type": "stream",
     "text": [
      "-7.5\n",
      "х принадлежит интервалу (-infinity,-5)\n"
     ]
    }
   ],
   "source": [
    "x = float(input())\n",
    "if x<-5:\n",
    "    print(\"х принадлежит интервалу (-infinity,-5)\")\n",
    "elif x>=-5 and x<=5:\n",
    "    print(\"х принадлежит отрезку [-5,5]\")\n",
    "else:\n",
    "    print(\"х принадлежит интервалу (5,+infinity)\")"
   ]
  },
  {
   "cell_type": "markdown",
   "metadata": {},
   "source": [
    "***Циклы for и while***\n",
    "```\n",
    "   Цикл while проверяет истинность условия, и если условие истино, то выполняет инструкции цикла.\n",
    " Синтаксис:\n",
    "    while услвие:\n",
    "        инструкции\n",
    "    инструкции, которые относятся к циклу while, распологаются на послдующих строках и должны иметь отступ от начала ключевого слова while.\n",
    "    Цикл for проходит по набороу значений, помещает каждое значение в переменную, с которой в цикле можно производить различные деёйствия.\n",
    "    Синтаксис:\n",
    "        for переменная in набор_значений:\n",
    "            инструкции\n",
    "    После ключевого слова for идёт название переменной, в которую будут помещатся значения. После оператора in указывается набор значений и двоеточие. Инструкции, которые относятся к циклу, распологаются на следующих строках и должны иметь отступ.\n",
    "    При создании цикла удобно пользоваться функцией range(a,b), которая создаёт последовательность чисел от a до b-1.\n",
    "```"
   ]
  },
  {
   "cell_type": "markdown",
   "metadata": {},
   "source": [
    "***Пример 1*** Вывести все числа от 1 до 10 с шагом 3."
   ]
  },
  {
   "cell_type": "code",
   "execution_count": 10,
   "metadata": {},
   "outputs": [
    {
     "name": "stdout",
     "output_type": "stream",
     "text": [
      "1\n",
      "4\n",
      "7\n",
      "10\n"
     ]
    }
   ],
   "source": [
    "x = 1\n",
    "while x <=10:\n",
    "    print(x)\n",
    "    x+=3"
   ]
  },
  {
   "cell_type": "markdown",
   "metadata": {},
   "source": [
    "***Пример 2*** Задан список. Написать все элементы списка."
   ]
  },
  {
   "cell_type": "code",
   "execution_count": 11,
   "metadata": {},
   "outputs": [
    {
     "name": "stdout",
     "output_type": "stream",
     "text": [
      "KNN\n",
      "decsion tree\n",
      "linear model\n"
     ]
    }
   ],
   "source": [
    "models = ['KNN', 'decsion tree', 'linear model']\n",
    "for model in models:\n",
    "    print(model)"
   ]
  },
  {
   "cell_type": "markdown",
   "metadata": {},
   "source": [
    "***Пример 3*** Создать список от 1 до 99 с шагом 7."
   ]
  },
  {
   "cell_type": "code",
   "execution_count": 12,
   "metadata": {},
   "outputs": [
    {
     "name": "stdout",
     "output_type": "stream",
     "text": [
      "[1, 8, 15, 22, 29, 36, 43, 50, 57, 64, 71, 78, 85, 92, 99]\n"
     ]
    }
   ],
   "source": [
    "list_int = range(1, 100, 7)\n",
    "print(list(list_int))"
   ]
  },
  {
   "cell_type": "markdown",
   "metadata": {},
   "source": [
    "***Пример 4*** Вывести на экран числа от 5 до 105 с шагом 25 используя функцию range."
   ]
  },
  {
   "cell_type": "code",
   "execution_count": 13,
   "metadata": {},
   "outputs": [
    {
     "name": "stdout",
     "output_type": "stream",
     "text": [
      "5\n",
      "30\n",
      "55\n",
      "80\n",
      "105\n"
     ]
    }
   ],
   "source": [
    "for i in range(5, 106, 25):\n",
    "    print(i)"
   ]
  },
  {
   "cell_type": "markdown",
   "metadata": {},
   "source": [
    "***Пример 5*** Необходимо получить каждый k-й элемент массива а, начиная с элемента с индексо i (включительно) и заканчивая элементом с индексом j (не включительно), с шагом 2.\n",
    "Представить все элементы в обратном порядке"
   ]
  },
  {
   "cell_type": "code",
   "execution_count": 14,
   "metadata": {},
   "outputs": [
    {
     "name": "stdout",
     "output_type": "stream",
     "text": [
      "[2, 4, 6]\n",
      "[9, 8, 7, 6, 5, 4, 3, 2, 1]\n"
     ]
    }
   ],
   "source": [
    "a = [1, 2, 3, 4, 5, 6, 7, 8, 9]\n",
    "b = a[1:7:2]\n",
    "c = a[::-1]\n",
    "print(b)\n",
    "print(c)"
   ]
  },
  {
   "cell_type": "markdown",
   "metadata": {},
   "source": [
    "***Задание 1***\n",
    "```\n",
    "вывести на экран числа из примера 1 в обратном порядке\n",
    "```"
   ]
  },
  {
   "cell_type": "code",
   "execution_count": 16,
   "metadata": {},
   "outputs": [
    {
     "name": "stdout",
     "output_type": "stream",
     "text": [
      "10\n",
      "7\n",
      "4\n",
      "1\n"
     ]
    }
   ],
   "source": [
    "x = 10\n",
    "while x >=1:\n",
    "    print(x)\n",
    "    x-=3"
   ]
  },
  {
   "cell_type": "markdown",
   "metadata": {},
   "source": [
    "***Задание 2*** При решении задач машинного обучения часто в качестве объектов исследования выстуапет человек. Создайте список значимых характеристик (признаков), идентифицирующих человека. Выведите список на экран."
   ]
  },
  {
   "cell_type": "code",
   "execution_count": 1,
   "metadata": {},
   "outputs": [
    {
     "name": "stdout",
     "output_type": "stream",
     "text": [
      "Рост\n",
      "Вес\n",
      "Пол\n",
      "Цвет тела\n",
      "Цвет волос\n"
     ]
    }
   ],
   "source": [
    "characteristics = ['Рост', 'Вес', 'Пол', 'Цвет тела', 'Цвет волос']\n",
    "for characteristic in characteristics:\n",
    "    print(characteristic)"
   ]
  },
  {
   "cell_type": "markdown",
   "metadata": {},
   "source": [
    "***Задание 3*** Создать список чисел от 2 до 15 с шагом 1"
   ]
  },
  {
   "cell_type": "code",
   "execution_count": 2,
   "metadata": {},
   "outputs": [
    {
     "name": "stdout",
     "output_type": "stream",
     "text": [
      "[2, 3, 4, 5, 6, 7, 8, 9, 10, 11, 12, 13, 14, 15]\n"
     ]
    }
   ],
   "source": [
    "list_int = range(2,16,1)\n",
    "print(list(list_int))"
   ]
  },
  {
   "cell_type": "markdown",
   "metadata": {},
   "source": [
    "***Задание 4*** Выведите числа из примера 4 в обратном порядке"
   ]
  },
  {
   "cell_type": "code",
   "execution_count": 3,
   "metadata": {},
   "outputs": [
    {
     "name": "stdout",
     "output_type": "stream",
     "text": [
      "105\n",
      "80\n",
      "55\n",
      "30\n"
     ]
    }
   ],
   "source": [
    "for i in range(105,24,-25):\n",
    "    print(i)"
   ]
  },
  {
   "cell_type": "markdown",
   "metadata": {},
   "source": [
    "***Задание 5*** Напишите код, который все элементы массива x с четными индексами переставит в обратном порядке.\n"
   ]
  },
  {
   "cell_type": "code",
   "execution_count": 18,
   "metadata": {},
   "outputs": [
    {
     "name": "stdout",
     "output_type": "stream",
     "text": [
      "[12, 1, 10, 3, 8, 5, 6, 7, 4, 9, 2, 11, 0]\n"
     ]
    }
   ],
   "source": [
    "a = [0,1,2,3,4,5,6,7,8,9,10,11,12]\n",
    "k=0\n",
    "while a[k]%2!=0:\n",
    "    k+=1\n",
    "b = a[k::2]\n",
    "c = b[::-1]\n",
    "x = 0\n",
    "for i in range(len(a)):\n",
    "    if a[i]%2==0:\n",
    "        a[i] = c[x]\n",
    "        x+=1\n",
    "print(a)"
   ]
  },
  {
   "cell_type": "markdown",
   "metadata": {},
   "source": [
    "### Библиотеки\n",
    "```\n",
    "    Машинное обучение опирается на фундаментальные понятия и законы математики и информатики. Библиотека математических функций (math) применяется при решении большинства прикладных задач анализа данных. Также, и некоторые другие библиотеки Python содержат математические функции (например, NumPy). Важную роль играет библиотека matplotlib, которая позволяет производить визуализацию расчетов в удобной для восприятия человеком форме: графики, диаграммы, гистограммы.\n",
    "    Подключение библиотек – синтаксис: \n",
    "import math as m\n",
    "import numpy as np\n",
    "import matplotlib.pyplot as plt\n",
    "etc…\n",
    "    Библиотеки в python содержат не только функции, позволяющие решать различные задачи, но и некоторые популярные константы, например число Эйлера.\n",
    "```"
   ]
  },
  {
   "cell_type": "markdown",
   "metadata": {},
   "source": [
    "***Пример 1*** \tРассчитать синус от е радиан и вывести результат на экран"
   ]
  },
  {
   "cell_type": "code",
   "execution_count": 21,
   "metadata": {},
   "outputs": [
    {
     "name": "stdout",
     "output_type": "stream",
     "text": [
      "0.41078129050290885\n"
     ]
    }
   ],
   "source": [
    "import math as m\n",
    "print(m.sin(m.e))"
   ]
  },
  {
   "cell_type": "markdown",
   "metadata": {},
   "source": [
    "***Пример 2*** Для функции sin(xe^(cos(x))) на интервале [0;10] с шагом 0,05 построить график функции, закрасить полщадь под ним м вычислить значение этой площади."
   ]
  },
  {
   "cell_type": "code",
   "execution_count": 23,
   "metadata": {},
   "outputs": [
    {
     "name": "stdout",
     "output_type": "stream",
     "text": [
      "73.50792907748662\n"
     ]
    },
    {
     "data": {
      "image/png": "[encoded data removed]",
      "text/plain": [
       "<Figure size 432x288 with 1 Axes>"
      ]
     },
     "metadata": {
      "needs_background": "light"
     },
     "output_type": "display_data"
    }
   ],
   "source": [
    "import numpy as np\n",
    "import matplotlib.pyplot as plt\n",
    "from scipy.integrate import simps\n",
    "from numpy import trapz\n",
    "x = np.arange(0.0, 10, 0.1)\n",
    "y = np.abs(np.sin(x*np.exp(np.cos(x))))\n",
    "plt.grid()\n",
    "plt.plot(x, y, c = \"r\")\n",
    "plt.fill_between(x, y)\n",
    "\n",
    "area = trapz(y)\n",
    "print (area)"
   ]
  },
  {
   "cell_type": "markdown",
   "metadata": {},
   "source": [
    "***Пример 3*** Дано некоторое распределение оценок в группе за экзамен. Нарисовать круговую и точечную диаграммы распределения. "
   ]
  },
  {
   "cell_type": "code",
   "execution_count": 24,
   "metadata": {},
   "outputs": [
    {
     "data": {
      "image/png": "[encoded data removed]",
      "text/plain": [
       "<Figure size 720x504 with 1 Axes>"
      ]
     },
     "metadata": {},
     "output_type": "display_data"
    },
    {
     "data": {
      "text/plain": [
       "<matplotlib.collections.PathCollection at 0x204c82110d0>"
      ]
     },
     "execution_count": 24,
     "metadata": {},
     "output_type": "execute_result"
    },
    {
     "data": {
      "image/png": "[encoded data removed]",
      "text/plain": [
       "<Figure size 432x288 with 1 Axes>"
      ]
     },
     "metadata": {
      "needs_background": "light"
     },
     "output_type": "display_data"
    }
   ],
   "source": [
    "from matplotlib import pyplot as plt\n",
    "import numpy as np\n",
    "\n",
    "marks = ['Неуд','Удовл','Хор','Отл']\n",
    "\n",
    "data = [3,7,8,4]\n",
    "fig = plt.figure(figsize = (10,7))\n",
    "plt.pie(data, labels = marks)\n",
    "plt.show()\n",
    "plt.grid()\n",
    "plt.scatter(marks,data)"
   ]
  },
  {
   "cell_type": "markdown",
   "metadata": {},
   "source": [
    "### Задание 1\n",
    "Задайте массив случайных значений из интервала (0; 1). \n",
    "Рассчитайте средние и медианные значения для массива, сравните результаты, какие выводы можно сделать о значениях? \n",
    "Постройте точечную диаграмму рассеяния полученного ряда.\n"
   ]
  },
  {
   "cell_type": "code",
   "execution_count": 5,
   "metadata": {},
   "outputs": [
    {
     "name": "stdout",
     "output_type": "stream",
     "text": [
      "Введите длину массива\n",
      "20\n",
      "0.39793688807542016\n",
      "0.3373971565713597\n"
     ]
    },
    {
     "data": {
      "text/plain": [
       "<matplotlib.collections.PathCollection at 0x16b69b3ebb0>"
      ]
     },
     "execution_count": 5,
     "metadata": {},
     "output_type": "execute_result"
    },
    {
     "data": {
      "image/png": "[encoded data removed]",
      "text/plain": [
       "<Figure size 432x288 with 1 Axes>"
      ]
     },
     "metadata": {
      "needs_background": "light"
     },
     "output_type": "display_data"
    }
   ],
   "source": [
    "import matplotlib.pyplot as plt\n",
    "import random as rnd\n",
    "\n",
    "print('Введите длину массива')\n",
    "k = int(input())\n",
    "a = [0 for i in range(k)]\n",
    "for i in range(len(a)):\n",
    "    a[i] = rnd.random()\n",
    "print(sum(a)/len(a))\n",
    "n = len(a)\n",
    "index = n//2\n",
    "if n%2==0:\n",
    "    print(sorted(a)[index])\n",
    "else:\n",
    "    print(sum(sorted(a)[index - 1:index+1])/2)\n",
    "x = range(0, len(a),1)\n",
    "plt.scatter(x, a)"
   ]
  },
  {
   "cell_type": "markdown",
   "metadata": {},
   "source": [
    "\n",
    "***Задание 2***"
   ]
  },
  {
   "cell_type": "code",
   "execution_count": 48,
   "metadata": {},
   "outputs": [
    {
     "data": {
      "image/png": "[encoded data removed]",
      "text/plain": [
       "<Figure size 432x288 with 1 Axes>"
      ]
     },
     "metadata": {
      "needs_background": "light"
     },
     "output_type": "display_data"
    },
    {
     "data": {
      "text/plain": [
       "<matplotlib.collections.PathCollection at 0x204cc52b8e0>"
      ]
     },
     "execution_count": 48,
     "metadata": {},
     "output_type": "execute_result"
    },
    {
     "data": {
      "image/png": "[encoded data removed]",
      "text/plain": [
       "<Figure size 432x288 with 1 Axes>"
      ]
     },
     "metadata": {
      "needs_background": "light"
     },
     "output_type": "display_data"
    }
   ],
   "source": [
    "\n",
    "import numpy as np\n",
    "import matplotlib.pyplot as plt\n",
    "\n",
    "x = np.arange(1,11,1)\n",
    "y = (np.sqrt(1+np.exp(np.sqrt(x))+np.cos(x*x)))/np.abs(1-pow(np.sin(x), 3)) + np.log(2*x)\n",
    "plt.grid()\n",
    "plt.plot(x,y)\n",
    "plt.show()\n",
    "plt.grid()\n",
    "x = np.arange(1,6,1)\n",
    "y = (np.sqrt(1+np.exp(np.sqrt(x))+np.cos(x*x)))/np.abs(1-pow(np.sin(x), 3)) + np.log(2*x)\n",
    "plt.scatter(x,y)"
   ]
  },
  {
   "cell_type": "markdown",
   "metadata": {},
   "source": [
    "***Задание 3***"
   ]
  },
  {
   "cell_type": "code",
   "execution_count": 51,
   "metadata": {},
   "outputs": [
    {
     "name": "stdout",
     "output_type": "stream",
     "text": [
      "6.748183214657733\n"
     ]
    },
    {
     "data": {
      "image/png": "[encoded data removed]",
      "text/plain": [
       "<Figure size 432x288 with 1 Axes>"
      ]
     },
     "metadata": {
      "needs_background": "light"
     },
     "output_type": "display_data"
    }
   ],
   "source": [
    "import numpy as np\n",
    "import matplotlib.pyplot as plt\n",
    "from scipy.integrate import simps\n",
    "from numpy import trapz\n",
    "\n",
    "x = np.arange(0,11,1)\n",
    "y = np.abs(np.cos(x*np.exp(np.cos(x)+np.log(x+1))))\n",
    "plt.grid()\n",
    "plt.plot(x,y, c = \"r\")\n",
    "plt.fill_between(x,y)\n",
    "area = trapz(y)\n",
    "print (area)"
   ]
  },
  {
   "cell_type": "markdown",
   "metadata": {},
   "source": [
    "***Задание 4***"
   ]
  },
  {
   "cell_type": "code",
   "execution_count": 53,
   "metadata": {},
   "outputs": [
    {
     "data": {
      "text/plain": [
       "[<matplotlib.lines.Line2D at 0x204cc704ac0>]"
      ]
     },
     "execution_count": 53,
     "metadata": {},
     "output_type": "execute_result"
    },
    {
     "data": {
      "image/png": "[encoded data removed]",
      "text/plain": [
       "<Figure size 432x288 with 1 Axes>"
      ]
     },
     "metadata": {
      "needs_background": "light"
     },
     "output_type": "display_data"
    }
   ],
   "source": [
    "import matplotlib.pyplot as plt\n",
    "month = ['Jan','Feb', 'Mar', 'Apr', 'May', 'Jun', 'Jul', 'Aug', 'Sep', 'Oct', 'Nov', 'Dec']\n",
    "apple = [131.96, 121.26, 122.15, 131.46, 124.61, 136.96, 145.68, 151.83, 141.50, 149.80, 165.30, 177.57]\n",
    "microsoft = [231.96, 232.38, 235.77, 252.18, 249.68, 270.90, 284.91, 301.88, 281.92, 331.62, 330.59, 336.32]\n",
    "google = [91.79, 101.84, 103.43, 120.51, 120.58, 125.32, 135.22, 145.46, 133.27, 148.27, 142.25, 144.68]\n",
    "plt.grid();\n",
    "plt.plot(month, apple)\n",
    "plt.plot(month, microsoft)\n",
    "plt.plot(month, google)"
   ]
  },
  {
   "cell_type": "markdown",
   "metadata": {},
   "source": [
    "***Задание 5***\n"
   ]
  },
  {
   "cell_type": "code",
   "execution_count": 68,
   "metadata": {},
   "outputs": [
    {
     "name": "stdout",
     "output_type": "stream",
     "text": [
      "Введите два числа\n",
      "10 13\n",
      "Выберите действие калькулятора: \n",
      " 1: + \n",
      " 2: - \n",
      " 3: * \n",
      " 4: / \n",
      " 5: exp(x+y) \n",
      " 6: sin(x+y) \n",
      " 7: cos(x+y) \n",
      " 8: x^y\n",
      "3\n",
      "130\n"
     ]
    }
   ],
   "source": [
    "import math as m\n",
    "print('Введите два числа')\n",
    "a,b = map(int,input().split())\n",
    "print('Выберите действие калькулятора:', '\\n', '1: +', '\\n', '2: -', '\\n', '3: *', '\\n', '4: /', '\\n', '5: exp(x+y)', '\\n',\n",
    "     '6: sin(x+y)', '\\n', '7: cos(x+y)', '\\n', '8: x^y')\n",
    "x = int(input())\n",
    "if x==1:\n",
    "    print(a+b)\n",
    "elif x==2:\n",
    "    print(a-b)\n",
    "elif x==3:\n",
    "    print(a*b)\n",
    "elif x==4:\n",
    "    print(a/b)\n",
    "elif x==5:\n",
    "    print(m.exp(a+b))\n",
    "elif x==6:\n",
    "    print(m.sin(a+b))\n",
    "elif x==7:\n",
    "    print(m.cos(a+b))\n",
    "elif x==8:\n",
    "    print(a**b)\n",
    "else:\n",
    "    print('Не выражения под номером ', x)"
   ]
  }
 ],
 "metadata": {
  "kernelspec": {
   "display_name": "Python 3 (ipykernel)",
   "language": "python",
   "name": "python3"
  },
  "language_info": {
   "codemirror_mode": {
    "name": "ipython",
    "version": 3
   },
   "file_extension": ".py",
   "mimetype": "text/x-python",
   "name": "python",
   "nbconvert_exporter": "python",
   "pygments_lexer": "ipython3",
   "version": "3.9.12"
  }
 },
 "nbformat": 4,
 "nbformat_minor": 2
}
