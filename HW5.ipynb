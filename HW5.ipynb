{
 "cells": [
  {
   "cell_type": "markdown",
   "id": "eb8f6278",
   "metadata": {},
   "source": [
    "# Рабочая тетрадь 5\n",
    "## Горюшко Николай\n",
    "\n",
    "### Деревья принятия решений\n",
    "Деревья решений являются одним из наиболее эффективных инструментов интеллектуального анализа данных и предсказательной\n",
    "аналитики, которые позволяют решать задачи классификации и регрессии.\n",
    "\n",
    "Перед тем как непосредственно перейти к решению задач с использование данного инструмента рассмотрим общее понятие \"дерево\" в\n",
    "информатике и способы задания деревьев в языке Python.\n",
    "\n",
    "Деревья принадлежат к числу основных структур данных, используемых в программировании. Древовидная структура является одним из способов представления иерархической структуры в графическом виде. Такое название она получила потому, что граф выглядит как\n",
    "перевернутое дерево. Корень дерева (корневой узел) находится на самом верху, а листья (потомки) — внизу.\n",
    "\n",
    "Деревья широко применяются в компьютерных технологиях. Примером является файловая система, представляющая собой иерархическую структуру из файлов и каталогов.\n",
    "\n",
    "Для того чтобы более точно оперировать структурой Дерево, нужно дать определение некоторым ключевым понятиям:\n",
    "\n",
    "− корневой узел — самый верхний узел дерева, он не имеет предков;\n",
    "\n",
    "− лист, листовой или терминальный узел — конечный узел, то есть не имеющий потомков;\n",
    "\n",
    "− внутренний узел — любой узел дерева, имеющий потомков, то есть не лист.\n",
    "\n",
    "С корневого узла начинается выполнение большинства операций над деревом. Чтобы получить доступ к любому элементу структуры, необходимо, переходя по ветвям, перебирать элементы, начиная с головы — корневого узла. Корневой узел — это своеобразный вход в дерево. Большинство алгоритмов работы с деревом строятся на том, что каждый узел дерева рассматриваются как корневой узел поддерева, «растущего» из этого узла. Такой подход дает возможность зацикливать выполнение операций при прохождении по элементам дерева. Но в связи с тем, что при прохождении по дереву (в отличие от массива) неизвестно сколько шагов\n",
    "будет в этом цикле, используется другой инструмент — рекурсивный вызов. \n",
    "\n",
    "Двоичное (бинарное) дерево — это древовидная структура данных, где каждый узел имеет не более двух детей. Этих детей называют левым (Л) и правым (П) потомком или «сыном». На рисунке выше дерево является двоичным."
   ]
  },
  {
   "cell_type": "markdown",
   "id": "346e6d76",
   "metadata": {},
   "source": [
    "### Основы объектно-ориентированного программирования в Python\n",
    "\n",
    "В предыдущих разделах мы рассматривали в основном традиционное программирование на Python, когда вся программа разбивается (или не разбивается) на отдельные модули, содержащие функции. Такое программирование соответствует парадигме структурного\n",
    "программирования. Само структурное программирование оказалось колоссальным шагом в построении программ. Однако еще большим шагом является парадигма объектно-ориентированного программирования. В этом подходе программа состоит из отдельных классов, которые объединяют в себе как переменные, называемые полями класса, так и функции, называемые методами класса.\n",
    "\n",
    "На самом деле мы уже сталкивались с классами, когда создавали объекты для решения задач классификации и регрессии в Scikit-learn. В данном разделе подробнее познакомимся с основами объектноориентированного программирования (ООП).\n",
    "\n",
    "Объектно-ориентированное программирование состоит из трех китов:\n",
    "\n",
    "− инкапсуляция;\n",
    "\n",
    "− наследование;\n",
    "\n",
    "− полиморфизм.\n",
    "\n",
    "Рассмотрим на примерах эти понятия. Первое - инкапсуляция - это объединение в одном объекте данных и программного кода таким образом, что для внешней работы внутренняя часть объекта может быть скрыта от пользователя. Инкапсуляция может быть реализована не только с помощью классов, но и с помощью модулей, но классы позволяют сделать инкапсуляцию естественным путем. Создадим класс в Python. Для этого необходимо определить класс (новый тип данных) и создать объект, называемый экземпляром класса. Мы рекомендуем имена классов начинать с заглавной буквы \"T\", подчеркивая тем самым, что речь идет о типе данных.\n",
    "\n",
    "Делается это так:\n",
    "\n",
    "```class TAnimal:\n",
    " name = \"\"\n",
    " def __init__(self, name):\n",
    "     self.name = name\n",
    " def say(self):\n",
    "     print(self.name)\n",
    " ```\n",
    "Теперь создадим экземпляр этого класса. Экземпляр класса представляет собой переменную, с которой можно работать обычным\n",
    "образом.\n",
    "```\n",
    "Animal = TAnimal(\"Обезьяна\")\n",
    "Animal.say()\n",
    "```\n",
    "Рассмотрим синтаксис Python при создании классов. Все начинается с ключевого слова class. Далее в блоке из отступов мы определяем переменные, которые будем называть полями и функции, которые называются методами. Методы определяются, как обычные функции и могут возвращать значения. Единственное отличие состоит в том, что у всех методов есть обязательный первый параметр, который по традиции всегда называем self в котором передается ссылка на экземпляр класса. Поэтому когда внутри класса метод хочет обратиться к своему полю, то необходимо использовать конструкцию self.name. Заметим, что при вызове методов мы первый параметр не задаем.\n",
    "\n",
    "Далее, у каждого класса есть метод, с именем __init__, который называется конструктором класса. Этот метод вызывается в момент\n",
    "создания экземпляра Animal = TAnimal(\"Обезьяна\"). Конструктор может иметь любое количество параметров. Предположим, что теперь нам нужно сделать класс для описания конкретного животного - кошки. Для это мы используем наследование классов, когда можно определять новые классы, как наследники существующих. При этом новый класс будет иметь все поля и методы наследуемого класса. Вот как это делается:\n",
    "```\n",
    "class TAnimal:\n",
    "     name = \"\"\n",
    "     def __init__(self, name):\n",
    "     self.name = name\n",
    "     def say(self):\n",
    "     print(self.name)\n",
    "class TCat(TAnimal):\n",
    "     def may(self):\n",
    "     print(\"Мяу!\")\n",
    "Cat = TCat(\"Кошка\")\n",
    "Cat.say()\n",
    "Cat.may()\n",
    "```\n",
    "\n",
    "Мы видим, что у наследованного класса сохранился конструктор и метод say. В последнем примере мы выдели, что наследный класс, также как и исходный имеет конструктор, который принимает в качестве параметра - название животного тогда, что в данном случае излишне. Для решения этой проблемы мы воспользуемся объектно-ориентированным механизмом - полиморфизмом. Полиморфизм - это возможность замены методов при наследовании. Сделаем так, чтобы не нужно было передавать в конструкторе название \"Кошка\".\n",
    "```\n",
    "class TCat(TAnimal):\n",
    "     def __init__(self):\n",
    "     super().__init__(\"Кошка\")\n",
    "     def may(self):\n",
    "     print(\"Мяу!\")\n",
    "Cat = TCat()\n",
    "Cat.say()\n",
    "Cat.may()\n",
    "```\n",
    "Результат выполнения этой программы будет аналогичный, но теперь при использовании этого класса нам не нужно передавать в конструкторе никаких параметров. Полиморфное перекрытие методов делается простым объявлением метода (в данном случае конструктора). При этом нельзя можно менять входные параметры. Если в результате написания кода метода возникает необходимость вызвать перекрытый метод, то для этого необходимо использовать функцию super(), которая по сути просто\n",
    "возвращает ссылку на родительский класс. Самое удивительное в полиморфизме, что изменяя метод, он меняется даже когда на него есть ссылки родительского класса. Рассмотрим еще один пример. Пусть у нас есть класс:\n",
    "```\n",
    "class TDo:\n",
    "     def Operation(self, x, y):\n",
    "     return x + y\n",
    "     def Run(self):\n",
    "     x = int(input(\"Enter x > \"))\n",
    "     y = int(input(\"Enter y > \"))\n",
    "     z = self.Operation(x, y)\n",
    "     print(\"Result = \" + z.__str__())\n",
    "Do = TDo()\n",
    "Do.Run()\n",
    "```\n",
    "С помощью полиморфизма заменим функцию Operation на другую в наследном классе:\n",
    "```\n",
    "class TDo2(TDo):\n",
    "     def Operation(self, x, y):\n",
    "     return x * y \n",
    "```"
   ]
  },
  {
   "cell_type": "markdown",
   "id": "a928be28",
   "metadata": {},
   "source": [
    "### Пример 1\n",
    "Необходимо разработать виртуальную модель процесса обучения. В программе должны быть объекты-ученики, учитель, кладезь знаний.\n",
    "\n",
    "Потребуется три класса – \"учитель\", \"ученик\", \"данные\". Учитель и ученик во многом похожи, оба – люди. Значит, их классы могут\n",
    "принадлежать одному надклассу \"человек\". Однако в контексте данной задачи у учителя и ученика вряд ли найдутся общие атрибуты. Определим, что должны уметь объекты для решения задачи \"увеличить знания\":\n",
    "\n",
    "• Ученик должен уметь брать информацию и превращать ее в свои\n",
    "знания.\n",
    "\n",
    "• Учитель должен уметь учить группу учеников.\n",
    "\n",
    "• Данные могут представлять собой список знаний. Элементы будут\n",
    "извлекаться по индексу."
   ]
  },
  {
   "cell_type": "code",
   "execution_count": 5,
   "id": "706528a6",
   "metadata": {},
   "outputs": [
    {
     "name": "stdout",
     "output_type": "stream",
     "text": [
      "['inheritance']\n",
      "['inheritance', 'class']\n"
     ]
    }
   ],
   "source": [
    "class Data:\n",
    "    def __init__(self, *info):\n",
    "        self.info = list(info)\n",
    "    def __getitem__(self, i):\n",
    "        return self.info[i]\n",
    "\n",
    "class Teacher:\n",
    "    def teach(self, info, *pupil):\n",
    "        for i in pupil:\n",
    "            i.take(info)\n",
    "            \n",
    "class Pupil:\n",
    "    def __init__(self):\n",
    "        self.knowledge = []\n",
    "    def take(self, info):\n",
    "        self.knowledge.append(info)\n",
    "        \n",
    "lesson = Data('class', 'object', 'inheritance', 'polymorphism','encapsulation')\n",
    "marIvanna = Teacher()\n",
    "vasy = Pupil()\n",
    "pety = Pupil()\n",
    "marIvanna.teach(lesson[2], vasy, pety)\n",
    "marIvanna.teach(lesson[0],pety)\n",
    "print(vasy.knowledge)\n",
    "print(pety.knowledge)"
   ]
  },
  {
   "cell_type": "markdown",
   "id": "899b0595",
   "metadata": {},
   "source": [
    "### Пример 2\n",
    "Напишите программу по следующему описанию. Есть класс \"Воин\". От него создаются два экземпляра-юнита. Каждому устанавливается здоровье в 100 очков. В случайном порядке они бьют друг друга. Тот, кто бьет, здоровья не теряет. У того, кого бьют, оно уменьшается на 20 очков от одного удара. После каждого удара надо выводить сообщение, какой юнит атаковал, и сколько у противника осталось здоровья. Как только у кого-то заканчивается ресурс здоровья, программа завершается сообщением о том,\n",
    "кто одержал победу."
   ]
  },
  {
   "cell_type": "code",
   "execution_count": 3,
   "id": "ce7bafe9",
   "metadata": {},
   "outputs": [
    {
     "name": "stdout",
     "output_type": "stream",
     "text": [
      "Enter 1 to attack. Enter 2 to stop program:1\n",
      "Warrior2  has attacked\n",
      "80  left\n",
      "Enter 1 to attack. Enter 2 to stop program:1\n",
      "Warrior2  has attacked\n",
      "60  left\n",
      "Enter 1 to attack. Enter 2 to stop program:1\n",
      "Warrior2  has attacked\n",
      "40  left\n",
      "Enter 1 to attack. Enter 2 to stop program:1\n",
      "Warrior2  has attacked\n",
      "20  left\n",
      "Enter 1 to attack. Enter 2 to stop program:1\n",
      "Warrior2  has attacked\n",
      "0  left\n",
      "Warrior2  has won\n",
      "Enter 1 to attack. Enter 2 to stop program:2\n"
     ]
    }
   ],
   "source": [
    "import random\n",
    "class Warrior:\n",
    "    def __init__(self, health):\n",
    "        self.health = health\n",
    "    \n",
    "    def hit(self, target,target1):\n",
    "        if target.health > 0:\n",
    "            target.health -= 20\n",
    "        if target1 == warrior1:\n",
    "            target1 = \"Warrior1\"\n",
    "        if target1 == warrior2:\n",
    "            target1 = \"Warrior2\"\n",
    "        print(target1,\" has attacked\")\n",
    "        print(target.health, \" left\")\n",
    "        if target.health == 0:\n",
    "            print(target1, \" has won\")\n",
    "\n",
    "warrior1 = Warrior(100)\n",
    "warrior2 = Warrior(100)\n",
    "q = int(input(\"Enter 1 to attack. Enter 2 to stop program:\"))\n",
    "\n",
    "while q!= 2:\n",
    "    if q == 1:\n",
    "        j = random.randint(1,3)\n",
    "        if j % 2 == 0:\n",
    "            warrior1.hit(warrior2,warrior1)\n",
    "            q = int(input(\"Enter 1 to attack. Enter 2 to stop program:\"))\n",
    "        else:\n",
    "            warrior2.hit(warrior1, warrior2)\n",
    "            q = int(input(\"Enter 1 to attack. Enter 2 to stop program:\"))\n",
    "    else:\n",
    "        print(\"Wrong input. \")\n",
    "        break"
   ]
  },
  {
   "cell_type": "markdown",
   "id": "f4fb770f",
   "metadata": {},
   "source": [
    "### Пример 3\n",
    "    Создайте класс по работе с дробями. В классе должна быть\n",
    "реализована следующая функциональность:\n",
    "\n",
    "− сложение дробей;\n",
    "\n",
    "− вычитание дробей;\n",
    "\n",
    "− умножение дробей;\n",
    "\n",
    "− деление дробей."
   ]
  },
  {
   "cell_type": "code",
   "execution_count": 9,
   "id": "21af6682",
   "metadata": {},
   "outputs": [
    {
     "name": "stdout",
     "output_type": "stream",
     "text": [
      "5/6\n",
      "1/6\n",
      "1/6\n",
      "1/6\n",
      "3/2\n",
      "13/2\n"
     ]
    }
   ],
   "source": [
    "class Rational:\n",
    "    \n",
    "    @staticmethod\n",
    "    def gcd(a,b):\n",
    "        while (b!=0):\n",
    "            (a,b)  = (b,a%b)\n",
    "        return a\n",
    "    @staticmethod\n",
    "    def sgn(x):\n",
    "        if x>0:\n",
    "            return 1\n",
    "        elif x<0:\n",
    "            return -1\n",
    "        else:\n",
    "            return 0\n",
    "    \n",
    "    def __init__(self,n,d):\n",
    "        if n==0:\n",
    "            self.num=0\n",
    "            self.den=1\n",
    "        else:\n",
    "            z=self.sgn(n)*self.sgn(d)\n",
    "            n=abs(n)\n",
    "            d=abs(d)\n",
    "            k=self.gcd(n,d)\n",
    "            self.num=z*n//k\n",
    "            self.den=d//k\n",
    "    \n",
    "    def __str__(self):\n",
    "        if self.num==0:\n",
    "            return \"0\"\n",
    "        else:\n",
    "            return str(self.num)+\"/\"+str(self.den)\n",
    "    \n",
    "    def __add__(self,o):\n",
    "        n1=self.num\n",
    "        d1=self.den\n",
    "        if type(o)==int:\n",
    "            n2=o\n",
    "            d2=1\n",
    "        else:\n",
    "            n2=o.num\n",
    "            d2=o.den\n",
    "        n=n1*d2+n2*d1\n",
    "        d=d1*d2\n",
    "        return Rational(n,d)\n",
    "    \n",
    "    def __radd__(self, o):\n",
    "        n1=self.num\n",
    "        d1=self.den\n",
    "        if type(o)==int:\n",
    "            n2=o\n",
    "            d2=1\n",
    "        else:\n",
    "            n2=o.num\n",
    "            d2=o.den\n",
    "        n=n1*d2+n2*d1\n",
    "        d=d1*d2\n",
    "        return Rational(n, d)\n",
    "    \n",
    "    def __sub__(self, o):\n",
    "        n1=self.num\n",
    "        d1=self.den\n",
    "        n2=o.num\n",
    "        d2=o.den\n",
    "        n=n1*d2-n2*d1\n",
    "        d=d1*d2\n",
    "        return Rational(n,d)\n",
    "    \n",
    "    def __mul__(self, o):\n",
    "        n1=self.num\n",
    "        d1=self.den\n",
    "        n2=o.num\n",
    "        d2=o.den\n",
    "        n = n1*n2\n",
    "        d = d1*d2\n",
    "        return Rational(n,d)\n",
    "    \n",
    "    def __floordiv__(self,o):\n",
    "        n1=self.num\n",
    "        d1=self.den\n",
    "        n2=o.num\n",
    "        d2=o.den\n",
    "        n=n1*d2\n",
    "        d=d1*n2\n",
    "        return Rational(n,d)\n",
    "    \n",
    "d1=Rational(1,2)\n",
    "d2=Rational(1,3)\n",
    "d3=d1+d2\n",
    "print(d3)\n",
    "print(d1-d2)\n",
    "print(d1*d2)\n",
    "print(d1*d2)\n",
    "print(d1//d2)\n",
    "print(6+d1)"
   ]
  },
  {
   "cell_type": "markdown",
   "id": "75edb157",
   "metadata": {},
   "source": [
    "### Задание 1\n",
    "\n",
    "Создайте класс по работе с тригонометрическими функциями. В классе\n",
    "должны быть реализованы функции вычисления:\n",
    "\n",
    "− косинуса;\n",
    "\n",
    "− синуса;\n",
    "\n",
    "− тангенса;\n",
    "\n",
    "− арксинуса;\n",
    "\n",
    "− арккосинуса;\n",
    "\n",
    "− арктангенса;\n",
    "\n",
    "− перевода из градусов в радианы."
   ]
  },
  {
   "cell_type": "code",
   "execution_count": 53,
   "id": "d00ab193",
   "metadata": {},
   "outputs": [
    {
     "name": "stdout",
     "output_type": "stream",
     "text": [
      "-1.8369701987210297e-16\n",
      "-1.0\n",
      "Can't compile\n",
      "1.0471975511965979\n",
      "4.71238898038469\n"
     ]
    }
   ],
   "source": [
    "import math\n",
    "\n",
    "class Trigonometry:\n",
    "    \n",
    "    def __init__(self, n):\n",
    "        n = math.radians(n)\n",
    "        self.ang = n\n",
    "        \n",
    "    def cos(self):\n",
    "        return math.cos(self.ang)\n",
    "    \n",
    "    def sin(self):\n",
    "        return math.sin(self.ang)\n",
    "    \n",
    "    def tg(self):\n",
    "        if (self.ang == math.pi/2 or math.pi+math.pi/2):\n",
    "            return \"Can't compile\"\n",
    "        else:\n",
    "            return math.tan(self.ang)\n",
    "    \n",
    "    def arccos(self):\n",
    "        return math.acos(math.degrees(self.ang))\n",
    "        \n",
    "    def arcsin(self):\n",
    "        if abs(self.ang) > 1:\n",
    "            return \"Can't compile\"\n",
    "        else:\n",
    "            return math.acos(self.ang)\n",
    "    \n",
    "    def arctg(self):\n",
    "        return math.atan(self.ang)\n",
    "    \n",
    "    def rad(self):\n",
    "        return self.ang\n",
    "    \n",
    "n = Trigonometry(270)\n",
    "b = Trigonometry(0.5)\n",
    "print(Trigonometry.cos(n))\n",
    "print(Trigonometry.sin(n))\n",
    "print(Trigonometry.tg(n))\n",
    "print(Trigonometry.arccos(b))\n",
    "print(Trigonometry.rad(n))"
   ]
  },
  {
   "cell_type": "markdown",
   "id": "32f4bafc",
   "metadata": {},
   "source": [
    "## Реализация деревьев в Python\n",
    "\n",
    "Любое представление графов, естественно, можно использовать для представления деревьев, потому что деревья — это особый вид графов. Однако, деревья играют свою большую роль в алгоритмах, и для них разработано много соответствующих структур и методов. Большинство алгоритмов на деревьях (например, поиск по деревьям) можно рассматривать в терминах теории графов, но специальные структуры данных делают их проще в реализации.\n",
    "\n",
    "Проще всего описать представление дерева с корнем, в котором ребра спускаются вниз от корня. Такие деревья часто отображают иерархическое ветвление данных, где корень отображает все объекты (которые, возможно, хранятся в листьях), а каждый внутренний узел показывает объекты, содержащиеся в дереве, корень которого — этот узел. Это описание можно использовать, представив каждое поддерево списком, содержащим все его поддеревья-потомки. Рассмотрим простое дерево, показанное на рисунке ниже\n",
    "\n",
    "<p align=\"center\">\n",
    "  <img width=\"622\" height=\"310\" src=\"https://github.com/Pinem3/Artifitial_Intelegy_Homework/blob/main/Images/5.1.png\">\n",
    "</p>\n",
    "\n",
    "Мы можем представить это дерево как список списков:\n",
    "**T = [[\"a\", \"b\"], [\"c\"], [\"d\", [\"e\", \"f\"]]]**\n",
    "\n",
    "**print(T[0][1])**\n",
    "\n",
    "**print(T[2][1][0])**\n",
    "\n",
    "Каждый список в сущности является списком потомков каждого из внутренних узлов. Во втором примере мы обращаемся к третьему потомку корня, затем ко второму его потомку и в конце концов — к первому потомку предыдущего узла (этот путь отмечен на рисунке). В ряде случаев возможно заранее определить максимальное число потомков каждого узла. (Например, каждый узел бинарного дерева может иметь до двух потомков). Поэтому можно использовать другие представления, скажем, объекты с отдельным атрибутом для каждого из потомков как в листинге ниже"
   ]
  },
  {
   "cell_type": "markdown",
   "id": "38d0e953",
   "metadata": {},
   "source": [
    "### Пример 1\n",
    "\n",
    "Определите класс бинарного дерева и задайте его объекты с отдельным атрибутом для каждого из потомков."
   ]
  },
  {
   "cell_type": "code",
   "execution_count": 1,
   "id": "5c7e2a20",
   "metadata": {},
   "outputs": [
    {
     "data": {
      "text/plain": [
       "'c'"
      ]
     },
     "execution_count": 1,
     "metadata": {},
     "output_type": "execute_result"
    }
   ],
   "source": [
    "class Tree:\n",
    "    def __init__(self, left, right):\n",
    "        self.left = left\n",
    "        self.right = right\n",
    "\n",
    "t = Tree(Tree(\"a\", \"b\"), Tree(\"c\", \"d\"))\n",
    "t.right.left"
   ]
  },
  {
   "cell_type": "markdown",
   "id": "e3d90640",
   "metadata": {},
   "source": [
    "###  Пример 2\n",
    "\n",
    "Для обозначения отсутствующих потомков можно использовать None (в случае если у узла только один потомок). Само собой, можно \n",
    "комбинировать разные методы (например, использовать списки или множества потомков для каждого узла).\n",
    "\n",
    "Распространенный способ реализации деревьев, особенно на языках, не имеющих встроенной поддержки списков, это так называемое \n",
    "представление «первый потомок, следующий брат». В нем каждый узел имеет два «указателя» или атрибута, указывающих на другие узлы, как в бинарном дереве. Однако, первый из этих атрибутов ссылается на первого потомка узла, а второй — на его следующего брата (т.е. узел, имеющий того же родителя, но находящийся правее, — прим. перев). Иными словами, каждый узел дерева имеет указатель на связанный список его потомков, а каждый из этих потомков ссылается на свой собственный аналогичный список. Таким образом, небольшая модификация бинарного дерева даст нам многопутевое дерево, показанное в листинге ниже."
   ]
  },
  {
   "cell_type": "code",
   "execution_count": 2,
   "id": "adaa5330",
   "metadata": {},
   "outputs": [
    {
     "data": {
      "text/plain": [
       "'c'"
      ]
     },
     "execution_count": 2,
     "metadata": {},
     "output_type": "execute_result"
    }
   ],
   "source": [
    "class Tree:\n",
    "    def __init__(self, kids, next=None):\n",
    "        self.kids = self.val = kids\n",
    "        self.next = next\n",
    "\n",
    "t = Tree(Tree(\"a\", Tree(\"b\", Tree(\"c\", Tree(\"d\")))))\n",
    "t.kids.next.next.val"
   ]
  },
  {
   "cell_type": "markdown",
   "id": "1a371ed2",
   "metadata": {},
   "source": [
    "### Задание 1 \n",
    " Представьте дерево. Выведете на печать корень дерева, а также его левое и правое поддеревья."
   ]
  },
  {
   "cell_type": "code",
   "execution_count": 11,
   "id": "8c21ec0f",
   "metadata": {},
   "outputs": [
    {
     "name": "stdout",
     "output_type": "stream",
     "text": [
      "a\n",
      "b c\n"
     ]
    }
   ],
   "source": [
    "class Tree:\n",
    "    def __init__(self, root, left, right=None, next=None):\n",
    "        self.left = left\n",
    "        self.right = right\n",
    "        self.root = self.val = root\n",
    "        self.next = next\n",
    "        \n",
    "t = Tree(\"a\", Tree(\"b\",\"d\",\"e\"), Tree(\"c\",\"f\"))\n",
    "print(t.root)\n",
    "print(t.left.root, t.right.root)"
   ]
  },
  {
   "cell_type": "markdown",
   "id": "69067873",
   "metadata": {},
   "source": [
    "### Задание 2\n",
    "\n",
    "Дан класс, описывающий бинарное дерево.\n",
    "\n",
    "**class Tree:**\n",
    "\n",
    " **def __init__(self, data):**\n",
    "     \n",
    " **self.left = None**\n",
    "     \n",
    " **self.right = None**\n",
    "     \n",
    " **self.data = data**\n",
    "     \n",
    " **def PrintTree(self):**\n",
    "     \n",
    "**print(self.data)**\n",
    " \n",
    "\n",
    "Реализуйте в классе функцию для вставки нового элемента в дерево по \n",
    "следующим правилам:\n",
    "- Левое поддерево узла содержит только узлы со значениями меньше, чем значение в узле.\n",
    "* Правое поддерево узла содержит только узлы со значениями меньше, чем значение в узле.\n",
    "* Каждое из левого и правого поддеревьев также должно быть бинарным деревом поиска.\n",
    "* Не должно быть повторяющихся узлов.\n",
    "\n",
    "Метод вставки сравнивает значение узла с родительским узлом и решает \n",
    "куда доваить элемент (в левое или правое поддерево). Перепишите, метод \n",
    "PrintTree для печати полной версии дерева."
   ]
  },
  {
   "cell_type": "code",
   "execution_count": 23,
   "id": "02368bf7",
   "metadata": {},
   "outputs": [
    {
     "name": "stdout",
     "output_type": "stream",
     "text": [
      "1\n",
      "2\n",
      "7\n",
      "10\n",
      "17\n",
      "21\n"
     ]
    }
   ],
   "source": [
    "class Tree:\n",
    "    def __init__(self, data):\n",
    "        self.left=None\n",
    "        self.right=None\n",
    "        self.data=data\n",
    "    \n",
    "    def PrintTree(self):\n",
    "        if self.left:\n",
    "            self.left.PrintTree()\n",
    "        print(self.data),\n",
    "        if self.right:\n",
    "            self.right.PrintTree()\n",
    "    \n",
    "    def insert(self, data):\n",
    "        if self.data:\n",
    "            if (data < self.data):\n",
    "                if (self.left is None):\n",
    "                    self.left = Tree(data)\n",
    "                else:\n",
    "                    self.left.insert(data)\n",
    "            elif (data > self.data):\n",
    "                if (self.right is None):\n",
    "                    self.right = Tree(data)\n",
    "                else:\n",
    "                    self.right.insert(data)\n",
    "        else:\n",
    "            self.data = data\n",
    "            \n",
    "tree = Tree(17)\n",
    "tree.insert(21)\n",
    "tree.insert(10)\n",
    "tree.insert(2)\n",
    "tree.insert(7)\n",
    "tree.insert(1)\n",
    "tree.PrintTree()"
   ]
  },
  {
   "cell_type": "markdown",
   "id": "61332f6f",
   "metadata": {},
   "source": [
    "## Деревья решений\n",
    "Дерево решений – это один из наиболее часто и широко используемых \n",
    "алгоритмов контролируемого машинного обучения, который может \n",
    "выполнять как регрессионные, так и классификационные задачи.\n",
    "Использование деревьев решений для прогнозного анализа имеет ряд \n",
    "преимуществ:\n",
    "1. Деревья решений могут быть использованы для прогнозирования как непрерывных, так и дискретных значений, т. е. они хорошо работают как для задач регрессии, так и для задач классификации.\n",
    "2. Они требуют относительно меньших усилий для обучения алгоритма.\n",
    "3. Они могут быть использованы для классификации нелинейно разделимых данных.\n",
    "4. Они очень быстры и эффективны по сравнению с KNN и другими алгоритмами классификации. Решим модельные примеры классификации и регрессии, разобранные в предыдущих раочих тетрадях, но с использованием деревьев принятия решений."
   ]
  },
  {
   "cell_type": "markdown",
   "id": "64a0a7f1",
   "metadata": {},
   "source": [
    "### Пример\n",
    "\n",
    "Построим дерево решений для задачи классификации, для этого, построим \n",
    "границу решения для каждого класса. В качестве данных будем \n",
    "использовать уже знакомый нам и встроенный в библиотеку sklearn набор \n",
    "данных ирисов Фишера. Импортируем библиотеки, набор данных и \n",
    "посмотрим его характеристики."
   ]
  },
  {
   "cell_type": "code",
   "execution_count": 12,
   "id": "679cc6c0",
   "metadata": {},
   "outputs": [
    {
     "data": {
      "text/html": [
       "<div>\n",
       "<style scoped>\n",
       "    .dataframe tbody tr th:only-of-type {\n",
       "        vertical-align: middle;\n",
       "    }\n",
       "\n",
       "    .dataframe tbody tr th {\n",
       "        vertical-align: top;\n",
       "    }\n",
       "\n",
       "    .dataframe thead th {\n",
       "        text-align: right;\n",
       "    }\n",
       "</style>\n",
       "<table border=\"1\" class=\"dataframe\">\n",
       "  <thead>\n",
       "    <tr style=\"text-align: right;\">\n",
       "      <th></th>\n",
       "      <th>sepal_length</th>\n",
       "      <th>sepal_width</th>\n",
       "      <th>petal_length</th>\n",
       "      <th>petal_width</th>\n",
       "      <th>species</th>\n",
       "    </tr>\n",
       "  </thead>\n",
       "  <tbody>\n",
       "    <tr>\n",
       "      <th>0</th>\n",
       "      <td>5.1</td>\n",
       "      <td>3.5</td>\n",
       "      <td>1.4</td>\n",
       "      <td>0.2</td>\n",
       "      <td>setosa</td>\n",
       "    </tr>\n",
       "    <tr>\n",
       "      <th>1</th>\n",
       "      <td>4.9</td>\n",
       "      <td>3.0</td>\n",
       "      <td>1.4</td>\n",
       "      <td>0.2</td>\n",
       "      <td>setosa</td>\n",
       "    </tr>\n",
       "    <tr>\n",
       "      <th>2</th>\n",
       "      <td>4.7</td>\n",
       "      <td>3.2</td>\n",
       "      <td>1.3</td>\n",
       "      <td>0.2</td>\n",
       "      <td>setosa</td>\n",
       "    </tr>\n",
       "    <tr>\n",
       "      <th>3</th>\n",
       "      <td>4.6</td>\n",
       "      <td>3.1</td>\n",
       "      <td>1.5</td>\n",
       "      <td>0.2</td>\n",
       "      <td>setosa</td>\n",
       "    </tr>\n",
       "    <tr>\n",
       "      <th>4</th>\n",
       "      <td>5.0</td>\n",
       "      <td>3.6</td>\n",
       "      <td>1.4</td>\n",
       "      <td>0.2</td>\n",
       "      <td>setosa</td>\n",
       "    </tr>\n",
       "  </tbody>\n",
       "</table>\n",
       "</div>"
      ],
      "text/plain": [
       "   sepal_length  sepal_width  petal_length  petal_width species\n",
       "0           5.1          3.5           1.4          0.2  setosa\n",
       "1           4.9          3.0           1.4          0.2  setosa\n",
       "2           4.7          3.2           1.3          0.2  setosa\n",
       "3           4.6          3.1           1.5          0.2  setosa\n",
       "4           5.0          3.6           1.4          0.2  setosa"
      ]
     },
     "execution_count": 12,
     "metadata": {},
     "output_type": "execute_result"
    }
   ],
   "source": [
    "import pandas as pd\n",
    "import numpy as np\n",
    "import seaborn as sns\n",
    "import matplotlib.pyplot as plt\n",
    "\n",
    "dataset = sns.load_dataset('iris')\n",
    "dataset\n",
    "dataset.shape\n",
    "dataset.head()"
   ]
  },
  {
   "cell_type": "markdown",
   "id": "c1850f94",
   "metadata": {},
   "source": [
    "Далее, разделим наши данные на атрибуты и метки, а затем выделим в \n",
    "общей совокупности полученных данных обучающие и тестовые наборы. \n",
    "Таким образом, мы можем обучить наш алгоритм на одном наборе данных, \n",
    "а затем протестировать его на совершенно на другом наборе, который \n",
    "алгоритм еще не видел. Это дает вам более точное представление о том, \n",
    "как на самом деле будет работать ваш обученный алгоритм"
   ]
  },
  {
   "cell_type": "code",
   "execution_count": 13,
   "id": "7c6a5669",
   "metadata": {},
   "outputs": [
    {
     "data": {
      "text/plain": [
       "((120, 4), (30, 4), (120,), (30,))"
      ]
     },
     "execution_count": 13,
     "metadata": {},
     "output_type": "execute_result"
    }
   ],
   "source": [
    "from sklearn.model_selection import train_test_split\n",
    "\n",
    "X_train, X_test, y_train, y_test = train_test_split(\n",
    "    dataset.iloc[:, :-1],\n",
    "    dataset.iloc[:,-1],\n",
    "    test_size = 0.20\n",
    ")\n",
    "X_train.shape, X_test.shape, y_train.shape, y_test.shape"
   ]
  },
  {
   "cell_type": "markdown",
   "id": "2cc5430d",
   "metadata": {},
   "source": [
    "После того, как данные были разделены на обучающие и тестовые наборы, \n",
    "последний шаг состоит в том, чтобы обучить алгоритм дерева решений на \n",
    "этих данных и сделать прогнозы. Scikit-Learn содержит библиотеку tree , \n",
    "которая содержит встроенные классы/методы для различных алгоритмов \n",
    "дерева решений. Поскольку мы собираемся выполнить здесь задачу \n",
    "классификации, мы будем использовать класс DecisionTreeClassifier для \n",
    "этого примера. Метод fit этого класса вызывается для обучения алгоритма \n",
    "на обучающих данных, которые передаются в качестве параметра методу \n",
    "fit . Выполним следующий сценарий для обучения алгоритма."
   ]
  },
  {
   "cell_type": "code",
   "execution_count": 17,
   "id": "43b4adbc",
   "metadata": {},
   "outputs": [
    {
     "data": {
      "text/plain": [
       "[Text(0.3, 0.9285714285714286, 'X[2] <= 2.45\\ngini = 0.666\\nsamples = 120\\nvalue = [38, 43, 39]'),\n",
       " Text(0.2, 0.7857142857142857, 'gini = 0.0\\nsamples = 38\\nvalue = [38, 0, 0]'),\n",
       " Text(0.4, 0.7857142857142857, 'X[2] <= 4.75\\ngini = 0.499\\nsamples = 82\\nvalue = [0, 43, 39]'),\n",
       " Text(0.3, 0.6428571428571429, 'gini = 0.0\\nsamples = 39\\nvalue = [0, 39, 0]'),\n",
       " Text(0.5, 0.6428571428571429, 'X[3] <= 1.75\\ngini = 0.169\\nsamples = 43\\nvalue = [0, 4, 39]'),\n",
       " Text(0.2, 0.5, 'X[1] <= 2.65\\ngini = 0.5\\nsamples = 6\\nvalue = [0, 3, 3]'),\n",
       " Text(0.1, 0.35714285714285715, 'gini = 0.0\\nsamples = 2\\nvalue = [0, 0, 2]'),\n",
       " Text(0.3, 0.35714285714285715, 'X[1] <= 2.9\\ngini = 0.375\\nsamples = 4\\nvalue = [0, 3, 1]'),\n",
       " Text(0.2, 0.21428571428571427, 'X[0] <= 6.15\\ngini = 0.5\\nsamples = 2\\nvalue = [0, 1, 1]'),\n",
       " Text(0.1, 0.07142857142857142, 'gini = 0.0\\nsamples = 1\\nvalue = [0, 1, 0]'),\n",
       " Text(0.3, 0.07142857142857142, 'gini = 0.0\\nsamples = 1\\nvalue = [0, 0, 1]'),\n",
       " Text(0.4, 0.21428571428571427, 'gini = 0.0\\nsamples = 2\\nvalue = [0, 2, 0]'),\n",
       " Text(0.8, 0.5, 'X[2] <= 4.85\\ngini = 0.053\\nsamples = 37\\nvalue = [0, 1, 36]'),\n",
       " Text(0.7, 0.35714285714285715, 'X[0] <= 5.95\\ngini = 0.444\\nsamples = 3\\nvalue = [0, 1, 2]'),\n",
       " Text(0.6, 0.21428571428571427, 'gini = 0.0\\nsamples = 1\\nvalue = [0, 1, 0]'),\n",
       " Text(0.8, 0.21428571428571427, 'gini = 0.0\\nsamples = 2\\nvalue = [0, 0, 2]'),\n",
       " Text(0.9, 0.35714285714285715, 'gini = 0.0\\nsamples = 34\\nvalue = [0, 0, 34]')]"
      ]
     },
     "execution_count": 17,
     "metadata": {},
     "output_type": "execute_result"
    },
    {
     "data": {
      "image/png": "[encoded data removed]",
      "text/plain": [
       "<Figure size 432x288 with 1 Axes>"
      ]
     },
     "metadata": {
      "needs_background": "light"
     },
     "output_type": "display_data"
    }
   ],
   "source": [
    "from sklearn.tree import DecisionTreeClassifier\n",
    "classifier = DecisionTreeClassifier()\n",
    "classifier.fit(X_train, y_train)\n",
    "\n",
    "from sklearn import tree\n",
    "tree.plot_tree(classifier)"
   ]
  },
  {
   "cell_type": "markdown",
   "id": "a085f4cb",
   "metadata": {},
   "source": [
    "Теперь, когда наш классификатор обучен, давайте сделаем прогнозы по \n",
    "тестовым данным. Для составления прогнозов используется метод predict \n",
    "класса Decision Tree Classifier. Взгляните на следующий код для \n",
    "использования"
   ]
  },
  {
   "cell_type": "code",
   "execution_count": 18,
   "id": "32cfb843",
   "metadata": {},
   "outputs": [
    {
     "data": {
      "text/plain": [
       "array(['versicolor', 'virginica', 'setosa', 'virginica', 'virginica',\n",
       "       'virginica', 'setosa', 'setosa', 'virginica', 'virginica',\n",
       "       'virginica', 'setosa', 'virginica', 'virginica', 'setosa',\n",
       "       'setosa', 'setosa', 'setosa', 'setosa', 'setosa', 'setosa',\n",
       "       'virginica', 'versicolor', 'versicolor', 'versicolor',\n",
       "       'versicolor', 'versicolor', 'versicolor', 'virginica', 'setosa'],\n",
       "      dtype=object)"
      ]
     },
     "execution_count": 18,
     "metadata": {},
     "output_type": "execute_result"
    }
   ],
   "source": [
    "y_pred = classifier.predict(X_test)\n",
    "y_pred"
   ]
  },
  {
   "cell_type": "markdown",
   "id": "99520b1e",
   "metadata": {},
   "source": [
    "На данный момент мы обучили наш алгоритм и сделали некоторые \n",
    "прогнозы. Теперь посмотрим, насколько точен наш алгоритм. Для задач \n",
    "классификации обычно используются такие метрики, как матрица \n",
    "путаницы, точность. Библиотека Scikit-Learn metrics содержит методы \n",
    "classification_report и confusion_matrix, которые могут быть использованы \n",
    "для расчета этих метрик."
   ]
  },
  {
   "cell_type": "code",
   "execution_count": 19,
   "id": "aada44c5",
   "metadata": {},
   "outputs": [
    {
     "name": "stdout",
     "output_type": "stream",
     "text": [
      "[[12  0  0]\n",
      " [ 0  5  2]\n",
      " [ 0  2  9]]\n",
      "              precision    recall  f1-score   support\n",
      "\n",
      "      setosa       1.00      1.00      1.00        12\n",
      "  versicolor       0.71      0.71      0.71         7\n",
      "   virginica       0.82      0.82      0.82        11\n",
      "\n",
      "    accuracy                           0.87        30\n",
      "   macro avg       0.84      0.84      0.84        30\n",
      "weighted avg       0.87      0.87      0.87        30\n",
      "\n"
     ]
    }
   ],
   "source": [
    "from sklearn.metrics import classification_report, confusion_matrix\n",
    "print(confusion_matrix(y_test, y_pred))\n",
    "print(classification_report(y_test, y_pred))"
   ]
  },
  {
   "cell_type": "markdown",
   "id": "3b358cd3",
   "metadata": {},
   "source": [
    "Из матрицы оценок алгоритма вы можете видеть, что из 30 тестовых \n",
    "экземпляров наш алгоритм неправильно классифицировал только 3. Это \n",
    "приблизительно 91 % точности."
   ]
  },
  {
   "cell_type": "markdown",
   "id": "4bd00137",
   "metadata": {},
   "source": [
    "### Задание\n",
    "Постройте классификатор на основе дерева принятия решений \n",
    "следующего датасета"
   ]
  },
  {
   "cell_type": "code",
   "execution_count": 24,
   "id": "e9d59b10",
   "metadata": {},
   "outputs": [
    {
     "name": "stdout",
     "output_type": "stream",
     "text": [
      "   0  1\n",
      "0 -1 -1\n",
      "1 -2 -1\n",
      "2 -3 -2\n",
      "3  1  1\n",
      "4  2  1\n",
      "5  3  2\n",
      "(6, 2)\n",
      "   0  1\n",
      "0 -1 -1\n",
      "1 -2 -1\n",
      "2 -3 -2\n",
      "3  1  1\n",
      "4  2  1\n",
      "[-1]\n",
      "[[0 1]\n",
      " [0 0]]\n",
      "              precision    recall  f1-score   support\n",
      "\n",
      "          -2       0.00      0.00      0.00       1.0\n",
      "          -1       0.00      0.00      0.00       0.0\n",
      "\n",
      "    accuracy                           0.00       1.0\n",
      "   macro avg       0.00      0.00      0.00       1.0\n",
      "weighted avg       0.00      0.00      0.00       1.0\n",
      "\n"
     ]
    },
    {
     "name": "stderr",
     "output_type": "stream",
     "text": [
      "D:\\Anaconda\\lib\\site-packages\\sklearn\\metrics\\_classification.py:1318: UndefinedMetricWarning: Precision and F-score are ill-defined and being set to 0.0 in labels with no predicted samples. Use `zero_division` parameter to control this behavior.\n",
      "  _warn_prf(average, modifier, msg_start, len(result))\n",
      "D:\\Anaconda\\lib\\site-packages\\sklearn\\metrics\\_classification.py:1318: UndefinedMetricWarning: Recall and F-score are ill-defined and being set to 0.0 in labels with no true samples. Use `zero_division` parameter to control this behavior.\n",
      "  _warn_prf(average, modifier, msg_start, len(result))\n",
      "D:\\Anaconda\\lib\\site-packages\\sklearn\\metrics\\_classification.py:1318: UndefinedMetricWarning: Precision and F-score are ill-defined and being set to 0.0 in labels with no predicted samples. Use `zero_division` parameter to control this behavior.\n",
      "  _warn_prf(average, modifier, msg_start, len(result))\n",
      "D:\\Anaconda\\lib\\site-packages\\sklearn\\metrics\\_classification.py:1318: UndefinedMetricWarning: Recall and F-score are ill-defined and being set to 0.0 in labels with no true samples. Use `zero_division` parameter to control this behavior.\n",
      "  _warn_prf(average, modifier, msg_start, len(result))\n",
      "D:\\Anaconda\\lib\\site-packages\\sklearn\\metrics\\_classification.py:1318: UndefinedMetricWarning: Precision and F-score are ill-defined and being set to 0.0 in labels with no predicted samples. Use `zero_division` parameter to control this behavior.\n",
      "  _warn_prf(average, modifier, msg_start, len(result))\n",
      "D:\\Anaconda\\lib\\site-packages\\sklearn\\metrics\\_classification.py:1318: UndefinedMetricWarning: Recall and F-score are ill-defined and being set to 0.0 in labels with no true samples. Use `zero_division` parameter to control this behavior.\n",
      "  _warn_prf(average, modifier, msg_start, len(result))\n"
     ]
    },
    {
     "data": {
      "image/png": "[encoded data removed]",
      "text/plain": [
       "<Figure size 432x288 with 1 Axes>"
      ]
     },
     "metadata": {
      "needs_background": "light"
     },
     "output_type": "display_data"
    }
   ],
   "source": [
    "import pandas as pd\n",
    "import numpy as np\n",
    "import seaborn as sns\n",
    "import matplotlib.pyplot as plt\n",
    "from sklearn.model_selection import train_test_split\n",
    "from sklearn.tree import DecisionTreeRegressor\n",
    "from sklearn import tree\n",
    "x = np.array([[-1,-1],[-2,-1],[-3,-2],[1,1],[2,1],[3,2]])\n",
    "target = [0,0,0,1,1,1]\n",
    "ds = pd.DataFrame(np.array([[-1,-1],[-2,-1],[-3,-2],[1,1],[2,1],[3,2]]))\n",
    "print(ds)\n",
    "print(ds.shape)\n",
    "print(ds.head())\n",
    "x_train, x_test, y_train, y_test = train_test_split(\n",
    "    ds.iloc[:, :-1],\n",
    "    ds.iloc[:, -1],\n",
    "    test_size = 0.15\n",
    ")\n",
    "\n",
    "x_train.shape, x_test.shape, y_train.shape, y_test.shape\n",
    "x_train.head()\n",
    "y_train.head()\n",
    "\n",
    "classifier = DecisionTreeClassifier()\n",
    "classifier.fit(x_train, y_train)\n",
    "tree.plot_tree(classifier)\n",
    "y_pred = classifier.predict(x_test)\n",
    "print(y_pred)\n",
    "print(confusion_matrix(y_test, y_pred))\n",
    "print(classification_report(y_test, y_pred))"
   ]
  },
  {
   "cell_type": "markdown",
   "id": "fa8db990",
   "metadata": {},
   "source": [
    "##  Дерево решений для регрессии\n",
    "Дерево решений для регрессии\n",
    "\n",
    "Процесс решения регрессионной задачи с деревом решений с помощью Scikit Learn очень похож на процесс классификации. Однако для регрессии мы используем класс DecisionTreeRegressor древовидной библиотеки. Кроме того, оценочные показатели регрессии отличаются от показателей классификации. В остальном процесс почти такой же.\n",
    "\n",
    "Построим регрессию с использованием дерева решений в Python и библиотеки scikit-learn. В качестве исходного набора данных будем использовать зависимость заработной платы от опыта работы из предыдущей тетради:\n",
    "https://raw.githubusercontent.com/AnnaShestova/salary-years-simple-linear-regression/master/Salary_Data.cs"
   ]
  },
  {
   "cell_type": "code",
   "execution_count": 25,
   "id": "73e8cf07",
   "metadata": {},
   "outputs": [
    {
     "name": "stdout",
     "output_type": "stream",
     "text": [
      "(30, 2)\n"
     ]
    },
    {
     "data": {
      "image/png": "[encoded data removed]",
      "text/plain": [
       "<Figure size 432x288 with 1 Axes>"
      ]
     },
     "metadata": {
      "needs_background": "light"
     },
     "output_type": "display_data"
    },
    {
     "name": "stdout",
     "output_type": "stream",
     "text": [
      "[ 46205.  121872.   56375.5  56375.5 112635.  105582. ]\n",
      "MSError: 25498988.416666668\n",
      "MAError: 4120.666666666667\n",
      "DecisionTreeRegressor\n"
     ]
    },
    {
     "data": {
      "text/plain": [
       "[Text(0.4956896551724138, 0.9375, 'X[0] <= 5.2\\nsquared_error = 614737637.832\\nsamples = 24\\nvalue = 73886.208'),\n",
       " Text(0.20689655172413793, 0.8125, 'X[0] <= 2.55\\nsquared_error = 81200345.857\\nsamples = 14\\nvalue = 54976.0'),\n",
       " Text(0.06896551724137931, 0.6875, 'X[0] <= 1.2\\nsquared_error = 7820714.0\\nsamples = 4\\nvalue = 42241.0'),\n",
       " Text(0.034482758620689655, 0.5625, 'squared_error = 0.0\\nsamples = 1\\nvalue = 39343.0'),\n",
       " Text(0.10344827586206896, 0.5625, 'X[0] <= 2.1\\nsquared_error = 6694994.667\\nsamples = 3\\nvalue = 43207.0'),\n",
       " Text(0.06896551724137931, 0.4375, 'X[0] <= 1.65\\nsquared_error = 1795600.0\\nsamples = 2\\nvalue = 44865.0'),\n",
       " Text(0.034482758620689655, 0.3125, 'squared_error = 0.0\\nsamples = 1\\nvalue = 46205.0'),\n",
       " Text(0.10344827586206896, 0.3125, 'squared_error = 0.0\\nsamples = 1\\nvalue = 43525.0'),\n",
       " Text(0.13793103448275862, 0.4375, 'squared_error = 0.0\\nsamples = 1\\nvalue = 39891.0'),\n",
       " Text(0.3448275862068966, 0.6875, 'X[0] <= 4.7\\nsquared_error = 19731272.6\\nsamples = 10\\nvalue = 60070.0'),\n",
       " Text(0.27586206896551724, 0.5625, 'X[0] <= 4.25\\nsquared_error = 9499922.484\\nsamples = 8\\nvalue = 58341.625'),\n",
       " Text(0.2413793103448276, 0.4375, 'X[0] <= 3.45\\nsquared_error = 9604901.143\\nsamples = 7\\nvalue = 57946.0'),\n",
       " Text(0.1724137931034483, 0.3125, 'X[0] <= 2.95\\nsquared_error = 14313358.25\\nsamples = 4\\nvalue = 58920.5'),\n",
       " Text(0.13793103448275862, 0.1875, 'squared_error = 0.0\\nsamples = 1\\nvalue = 56642.0'),\n",
       " Text(0.20689655172413793, 0.1875, 'X[0] <= 3.1\\nsquared_error = 16777116.667\\nsamples = 3\\nvalue = 59680.0'),\n",
       " Text(0.1724137931034483, 0.0625, 'squared_error = 0.0\\nsamples = 1\\nvalue = 60150.0'),\n",
       " Text(0.2413793103448276, 0.0625, 'squared_error = 25000000.0\\nsamples = 2\\nvalue = 59445.0'),\n",
       " Text(0.3103448275862069, 0.3125, 'X[0] <= 3.85\\nsquared_error = 372490.889\\nsamples = 3\\nvalue = 56646.667'),\n",
       " Text(0.27586206896551724, 0.1875, 'squared_error = 0.0\\nsamples = 1\\nvalue = 57189.0'),\n",
       " Text(0.3448275862068966, 0.1875, 'squared_error = 338142.25\\nsamples = 2\\nvalue = 56375.5'),\n",
       " Text(0.3103448275862069, 0.4375, 'squared_error = 0.0\\nsamples = 1\\nvalue = 61111.0'),\n",
       " Text(0.41379310344827586, 0.5625, 'X[0] <= 5.0\\nsquared_error = 911070.25\\nsamples = 2\\nvalue = 66983.5'),\n",
       " Text(0.3793103448275862, 0.4375, 'squared_error = 0.0\\nsamples = 1\\nvalue = 67938.0'),\n",
       " Text(0.4482758620689655, 0.4375, 'squared_error = 0.0\\nsamples = 1\\nvalue = 66029.0'),\n",
       " Text(0.7844827586206896, 0.8125, 'X[0] <= 8.05\\nsquared_error = 160167356.45\\nsamples = 10\\nvalue = 100360.5'),\n",
       " Text(0.6379310344827587, 0.6875, 'X[0] <= 5.95\\nsquared_error = 53566814.556\\nsamples = 6\\nvalue = 91617.333'),\n",
       " Text(0.5517241379310345, 0.5625, 'X[0] <= 5.6\\nsquared_error = 743906.25\\nsamples = 2\\nvalue = 82225.5'),\n",
       " Text(0.5172413793103449, 0.4375, 'squared_error = 0.0\\nsamples = 1\\nvalue = 83088.0'),\n",
       " Text(0.5862068965517241, 0.4375, 'squared_error = 0.0\\nsamples = 1\\nvalue = 81363.0'),\n",
       " Text(0.7241379310344828, 0.5625, 'X[0] <= 6.95\\nsquared_error = 13823368.688\\nsamples = 4\\nvalue = 96313.25'),\n",
       " Text(0.6551724137931034, 0.4375, 'X[0] <= 6.4\\nsquared_error = 1212201.0\\nsamples = 2\\nvalue = 92839.0'),\n",
       " Text(0.6206896551724138, 0.3125, 'squared_error = 0.0\\nsamples = 1\\nvalue = 93940.0'),\n",
       " Text(0.6896551724137931, 0.3125, 'squared_error = 0.0\\nsamples = 1\\nvalue = 91738.0'),\n",
       " Text(0.7931034482758621, 0.4375, 'X[0] <= 7.5\\nsquared_error = 2293710.25\\nsamples = 2\\nvalue = 99787.5'),\n",
       " Text(0.7586206896551724, 0.3125, 'squared_error = 0.0\\nsamples = 1\\nvalue = 98273.0'),\n",
       " Text(0.8275862068965517, 0.3125, 'squared_error = 0.0\\nsamples = 1\\nvalue = 101302.0'),\n",
       " Text(0.9310344827586207, 0.6875, 'X[0] <= 10.05\\nsquared_error = 33407056.688\\nsamples = 4\\nvalue = 113475.25'),\n",
       " Text(0.896551724137931, 0.5625, 'X[0] <= 8.6\\nsquared_error = 13207004.222\\nsamples = 3\\nvalue = 110676.333'),\n",
       " Text(0.8620689655172413, 0.4375, 'squared_error = 0.0\\nsamples = 1\\nvalue = 113812.0'),\n",
       " Text(0.9310344827586207, 0.4375, 'X[0] <= 9.3\\nsquared_error = 12436202.25\\nsamples = 2\\nvalue = 109108.5'),\n",
       " Text(0.896551724137931, 0.3125, 'squared_error = 0.0\\nsamples = 1\\nvalue = 105582.0'),\n",
       " Text(0.9655172413793104, 0.3125, 'squared_error = 0.0\\nsamples = 1\\nvalue = 112635.0'),\n",
       " Text(0.9655172413793104, 0.5625, 'squared_error = 0.0\\nsamples = 1\\nvalue = 121872.0')]"
      ]
     },
     "execution_count": 25,
     "metadata": {},
     "output_type": "execute_result"
    },
    {
     "data": {
      "image/png": "[encoded data removed]",
      "text/plain": [
       "<Figure size 432x288 with 1 Axes>"
      ]
     },
     "metadata": {
      "needs_background": "light"
     },
     "output_type": "display_data"
    }
   ],
   "source": [
    "import numpy as np\n",
    "import pandas as pd\n",
    "import matplotlib.pyplot as plt\n",
    "from pandas import DataFrame,Series\n",
    "from sklearn.model_selection import train_test_split\n",
    "from sklearn.linear_model import LinearRegression\n",
    "from sklearn.tree import DecisionTreeRegressor\n",
    "from sklearn import tree\n",
    "from sklearn import metrics\n",
    "url = 'https://raw.githubusercontent.com/AnnaShestova/salary-years-simple-linear-regression/master/Salary_Data.csv'\n",
    "df = pd.read_csv(url)\n",
    "df.head()\n",
    "print(df.shape)\n",
    "df.describe()\n",
    "plt.scatter(df['YearsExperience'],df['Salary'], color = 'b', label = \"exp\")\n",
    "plt.xlabel(\"Стаж\")\n",
    "plt.ylabel(\"ЗП\")\n",
    "plt.show()\n",
    "x = df.iloc[:,:-1].values\n",
    "y = df.iloc[:, 1].values\n",
    "x_train,x_test, y_train, y_test = train_test_split(x, y, test_size = 0.2, random_state = 0)\n",
    "reg = DecisionTreeRegressor()\n",
    "reg.fit(x_train, y_train)\n",
    "y_pred = reg.predict(x_test)\n",
    "print(y_pred)\n",
    "ds = pd.DataFrame({'Actual': y_test, 'Predicted': y_pred})\n",
    "ds\n",
    "print('MSError:',metrics.mean_squared_error(y_test, y_pred))\n",
    "print('MAError:',metrics.mean_absolute_error(y_test, y_pred))\n",
    "print('DecisionTreeRegressor')\n",
    "tree.plot_tree(reg)"
   ]
  },
  {
   "cell_type": "code",
   "execution_count": 26,
   "id": "4e888266",
   "metadata": {},
   "outputs": [
    {
     "data": {
      "text/plain": [
       "[Text(0.6, 0.8333333333333334, 'X[0] <= 0.7\\nsquared_error = 0.5\\nsamples = 4\\nvalue = 5.0'),\n",
       " Text(0.4, 0.5, 'X[0] <= 0.4\\nsquared_error = 0.222\\nsamples = 3\\nvalue = 4.667'),\n",
       " Text(0.2, 0.16666666666666666, 'squared_error = 0.0\\nsamples = 2\\nvalue = 5.0'),\n",
       " Text(0.6, 0.16666666666666666, 'squared_error = 0.0\\nsamples = 1\\nvalue = 4.0'),\n",
       " Text(0.8, 0.5, 'squared_error = 0.0\\nsamples = 1\\nvalue = 6.0')]"
      ]
     },
     "execution_count": 26,
     "metadata": {},
     "output_type": "execute_result"
    },
    {
     "data": {
      "image/png": "[encoded data removed]",
      "text/plain": [
       "<Figure size 432x288 with 1 Axes>"
      ]
     },
     "metadata": {
      "needs_background": "light"
     },
     "output_type": "display_data"
    }
   ],
   "source": [
    "from sklearn.tree import DecisionTreeRegressor\n",
    "import pandas as pd\n",
    "X = np.array([0.0, 0.2, 0.4, 0.6, 0.8, 1.0])\n",
    "y = np.array([5.0, 5.0, 4.0, 4.0, 6.0, 6.0])\n",
    "dataframe = pd.DataFrame({\"X\" : [\"0.0\", \"0.2\", \"0.4\", \"0.6\",\"0.8\", \"1.0\"], \"y\": [\"5.0\", \"5.0\", \"4.0\", \"4.0\", \"6.0\", \"6.0\"]})\n",
    "dataframe\n",
    "X = dataframe.iloc[:, :-1].values\n",
    "y = dataframe.iloc[: , 1].values\n",
    "X_train,X_test, y_train, y_test = train_test_split(X, y, test_size = 0.2, random_state = 0)\n",
    "reg = DecisionTreeRegressor()\n",
    "reg.fit(X_train, y_train)\n",
    "tree.plot_tree(reg)"
   ]
  }
 ],
 "metadata": {
  "kernelspec": {
   "display_name": "Python 3 (ipykernel)",
   "language": "python",
   "name": "python3"
  },
  "language_info": {
   "codemirror_mode": {
    "name": "ipython",
    "version": 3
   },
   "file_extension": ".py",
   "mimetype": "text/x-python",
   "name": "python",
   "nbconvert_exporter": "python",
   "pygments_lexer": "ipython3",
   "version": "3.9.12"
  }
 },
 "nbformat": 4,
 "nbformat_minor": 5
}
