{
 "cells": [
  {
   "cell_type": "markdown",
   "id": "beee93ba",
   "metadata": {},
   "source": [
    "# Рабочая тетрадь 2\n",
    "## Данные в машинном обучении\n",
    "\n"
   ]
  },
  {
   "cell_type": "markdown",
   "id": "86653f67",
   "metadata": {},
   "source": [
    "### Библиотека NumPy\n",
    "\n",
    "NumPy (NumericalPython) - это библиотека Python с открытым исходным кодом, которая используется практически во всех областях науки и техники. Это универсальный стандарт для работы с числовыми данными в Python.\n",
    "\n",
    "Чтобы начать использовать NumPy необходимо импортировать соответствующую библиотеку:\n",
    "```\n",
    "import numpy as np\n",
    "```\n",
    "Основным объектом NumPy является однородный многомерный массив (в numpy называется numpy.ndarray). Это многомерный массив элементов (обычно чисел), одного типа.\n",
    "```\n",
    "Наиболее важные атрибуты объектов ndarray:\n",
    "    ndarray.ndim - число измерений (чаще их называют \"оси\") массива.\n",
    "    ndarray.shape - размеры массива, его форма. Это кортеж натуральных\n",
    "чисел, показывающий длину массива по каждой оси. Для матрицы из n строк и m столбов, shape будет (n,m). Число элементов кортежа shape равно ndim.\n",
    "    ndarray.size - количество элементов массива. Очевидно, равно произведению всех элементов атрибута shape.\n",
    "    ndarray.dtype - объект, описывающий тип элементов массива. Можно определить dtype, используя стандартные типы данных Python. NumPy здесь предоставляет целый букет возможностей, как встроенных, например: bool_, character, int8, int16, int32,  nt64, float8, float16, float32, float64, complex64, object_, так и возможность определить собственные типы данных, в том числе и составные.\n",
    "    ndarray.itemsize - размер каждого элемента массива в байтах.\n",
    "    ndarray.data - буфер, содержащий фактические элементы массива.\n",
    "Обычно не нужно использовать этот атрибут, так как обращаться к\n",
    "элементам массива проще всего с помощью индексов.\n",
    "```"
   ]
  },
  {
   "cell_type": "markdown",
   "id": "d1e65760",
   "metadata": {},
   "source": [
    "### Пример 1\n",
    "Создать массив 5x2. Создать массив 5x2. Вывести все значения массива,\n",
    "значение элемента с индексом (3,1) и второй столбец. Индексация\n",
    "начинается с нуля."
   ]
  },
  {
   "cell_type": "code",
   "execution_count": 2,
   "id": "03bacb04",
   "metadata": {},
   "outputs": [
    {
     "name": "stdout",
     "output_type": "stream",
     "text": [
      "[[ 1  2]\n",
      " [ 3  4]\n",
      " [ 5  6]\n",
      " [ 7  8]\n",
      " [ 9 10]]\n",
      "8\n",
      "[3 4]\n"
     ]
    }
   ],
   "source": [
    "import numpy as np\n",
    "x = np.array([[1,2],[3,4],[5,6],[7,8],[9,10]])\n",
    "print(x)\n",
    "print(x[3][1])\n",
    "print(x[1])"
   ]
  },
  {
   "cell_type": "markdown",
   "id": "e92f53f6",
   "metadata": {},
   "source": [
    "### Пример 2\n",
    "```\n",
    " Выполнить следующее:\n",
    "1. Создать вектор (одномерный массив) размера 10, заполненный\n",
    "нулями.\n",
    "2. Создать вектор размера 10, заполненный единицами.\n",
    "3. Создать вектор размера 10, заполненный заданным числом.\n",
    "4. Создать вектор со значениями от 10 до 19.\n",
    "```"
   ]
  },
  {
   "cell_type": "code",
   "execution_count": 4,
   "id": "257f70ec",
   "metadata": {},
   "outputs": [
    {
     "name": "stdout",
     "output_type": "stream",
     "text": [
      "[0. 0. 0. 0. 0. 0. 0. 0. 0. 0.] \n",
      " [1. 1. 1. 1. 1. 1. 1. 1. 1. 1.] \n",
      " [5 5 5 5 5 5 5 5 5 5] \n",
      " [10 11 12 13 14 15 16 17 18 19]\n"
     ]
    }
   ],
   "source": [
    "a = np.zeros(10)\n",
    "b = np.ones(10)\n",
    "c = np.full(10, 5)\n",
    "d = np.arange(10,20)\n",
    "print(a, '\\n', b, '\\n', c, '\\n', d)"
   ]
  },
  {
   "cell_type": "markdown",
   "id": "cd726fc6",
   "metadata": {},
   "source": [
    "### Пример 3\n",
    "Создать массив 10x10 со случайными значениями, найти минимум,\n",
    "максимум и среднее значение.\n"
   ]
  },
  {
   "cell_type": "code",
   "execution_count": 5,
   "id": "bad15b05",
   "metadata": {},
   "outputs": [
    {
     "name": "stdout",
     "output_type": "stream",
     "text": [
      "0.037935533139432764 0.9953492607318654 0.5177884468590631\n"
     ]
    }
   ],
   "source": [
    "Z = np.random.random((10,10))\n",
    "Zmin, Zmax, Zmean = Z.min(), Z.max(), Z.mean()\n",
    "print(Zmin, Zmax, Zmean)"
   ]
  },
  {
   "cell_type": "markdown",
   "id": "3b252954",
   "metadata": {},
   "source": [
    "### Пример 4\n",
    "Задать матрицу размерности 5 на 5 и поменять 2 строки в матрице\n",
    "местами.\n"
   ]
  },
  {
   "cell_type": "code",
   "execution_count": 7,
   "id": "8aab69cb",
   "metadata": {},
   "outputs": [
    {
     "name": "stdout",
     "output_type": "stream",
     "text": [
      "[[ 5  6  7  8  9]\n",
      " [ 0  1  2  3  4]\n",
      " [10 11 12 13 14]\n",
      " [15 16 17 18 19]\n",
      " [20 21 22 23 24]]\n"
     ]
    }
   ],
   "source": [
    "A = np.arange(25).reshape(5,5)\n",
    "A[[0,1]]=A[[1,0]]\n",
    "print(A)"
   ]
  },
  {
   "cell_type": "markdown",
   "id": "75e6da1a",
   "metadata": {},
   "source": [
    "### Пример 5\n",
    "```\n",
    "Выяснить результат следующих выражений:\n",
    "0 * np.nan\n",
    "np.nan == np.nan\n",
    "np.inf > np.nan\n",
    "np.nan - np.nan\n",
    "0.3 == 3 * 0.1\n",
    "```"
   ]
  },
  {
   "cell_type": "code",
   "execution_count": 11,
   "id": "d3c10d96",
   "metadata": {},
   "outputs": [
    {
     "name": "stdout",
     "output_type": "stream",
     "text": [
      "nan\n",
      "False\n",
      "False\n",
      "nan\n",
      "False\n"
     ]
    }
   ],
   "source": [
    "print(0 * np.nan)\n",
    "print(np.nan == np.nan)\n",
    "print(np.inf > np.nan)\n",
    "print(np.nan - np.nan)\n",
    "print(0.3 == 3*0.1)"
   ]
  },
  {
   "cell_type": "markdown",
   "id": "e09a37dc",
   "metadata": {},
   "source": [
    "### Пример 6\n",
    "Отсортировать массив.\n"
   ]
  },
  {
   "cell_type": "code",
   "execution_count": 12,
   "id": "f8637f41",
   "metadata": {},
   "outputs": [
    {
     "name": "stdout",
     "output_type": "stream",
     "text": [
      "[1 2 3 4 5 6 7 8]\n"
     ]
    }
   ],
   "source": [
    "arr = np.array([2,1,5,3,7,4,6,8])\n",
    "print(np.sort(arr))"
   ]
  },
  {
   "cell_type": "markdown",
   "id": "0a1c3344",
   "metadata": {},
   "source": [
    "### Залание 1\n",
    "Создать 8x8 матрицу и заполнить её в шахматном порядке нулями и\n",
    "единицами."
   ]
  },
  {
   "cell_type": "code",
   "execution_count": 34,
   "id": "a90bda84",
   "metadata": {},
   "outputs": [
    {
     "name": "stdout",
     "output_type": "stream",
     "text": [
      "[[0 1 0 1 0 1 0 1]\n",
      " [1 0 1 0 1 0 1 0]\n",
      " [0 1 0 1 0 1 0 1]\n",
      " [1 0 1 0 1 0 1 0]\n",
      " [0 1 0 1 0 1 0 1]\n",
      " [1 0 1 0 1 0 1 0]\n",
      " [0 1 0 1 0 1 0 1]\n",
      " [1 0 1 0 1 0 1 0]]\n"
     ]
    }
   ],
   "source": [
    "a = np.full([8,8],[[0,1,0,1,0,1,0,1],[1,0,1,0,1,0,1,0],[0,1,0,1,0,1,0,1],[1,0,1,0,1,0,1,0],[0,1,0,1,0,1,0,1],[1,0,1,0,1,0,1,0],[0,1,0,1,0,1,0,1],[1,0,1,0,1,0,1,0]])\n",
    "print(a)"
   ]
  },
  {
   "cell_type": "markdown",
   "id": "a90326c3",
   "metadata": {},
   "source": [
    "### Задание 2\n",
    "\n",
    "Создать 5x5 матрицу со значениями в строках от 0 до 4. Для создания необходимо использовать функцию arrange.\n"
   ]
  },
  {
   "cell_type": "code",
   "execution_count": 7,
   "id": "80a265c1",
   "metadata": {},
   "outputs": [
    {
     "name": "stdout",
     "output_type": "stream",
     "text": [
      "[[0 1 2 3 4]\n",
      " [0 1 2 3 4]\n",
      " [0 1 2 3 4]\n",
      " [0 1 2 3 4]\n",
      " [0 1 2 3 4]]\n"
     ]
    }
   ],
   "source": [
    "import numpy as np\n",
    "A = np.full([5,5],np.arange(5))\n",
    "print(A)"
   ]
  },
  {
   "cell_type": "markdown",
   "id": "b675a642",
   "metadata": {},
   "source": [
    "### Задание 3\n",
    "Создать массив 3x3x3 со случайными значениями."
   ]
  },
  {
   "cell_type": "code",
   "execution_count": 11,
   "id": "2767a312",
   "metadata": {},
   "outputs": [
    {
     "name": "stdout",
     "output_type": "stream",
     "text": [
      "[[[0.9930718  0.03105339 0.74050182]\n",
      "  [0.99413126 0.2158155  0.95501016]\n",
      "  [0.37081405 0.20841404 0.4916109 ]]\n",
      "\n",
      " [[0.39770836 0.98070436 0.581773  ]\n",
      "  [0.06644592 0.23153849 0.57498501]\n",
      "  [0.80485808 0.9557563  0.58333601]]\n",
      "\n",
      " [[0.07696001 0.38695864 0.96877225]\n",
      "  [0.78505576 0.22504158 0.52001132]\n",
      "  [0.10971375 0.56622775 0.27517788]]]\n"
     ]
    }
   ],
   "source": [
    "import numpy as np\n",
    "A = np.random.random((3,3,3))\n",
    "print(A)"
   ]
  },
  {
   "cell_type": "markdown",
   "id": "0b011973",
   "metadata": {},
   "source": [
    "### Задание 4\n",
    "Создать матрицу с 0 внутри, и 1 на границах."
   ]
  },
  {
   "cell_type": "code",
   "execution_count": 18,
   "id": "fc410f68",
   "metadata": {},
   "outputs": [
    {
     "name": "stdout",
     "output_type": "stream",
     "text": [
      "Введите длину и ширину массива: \n",
      "5 5\n",
      "[[1 1 1 1 1]\n",
      " [1 0 0 0 1]\n",
      " [1 0 0 0 1]\n",
      " [1 0 0 0 1]\n",
      " [1 1 1 1 1]]\n"
     ]
    }
   ],
   "source": [
    "import numpy as np\n",
    "print(\"Введите длину и ширину матрицы: \")\n",
    "a,b = map(int, input().split())\n",
    "C = np.full([a,b], 0)\n",
    "for i in range(a):\n",
    "    for j in range(b): \n",
    "        if (i == 0 or i == a-1 or j == 0 or j == b -1):\n",
    "            C[i][j] = 1\n",
    "print(C)"
   ]
  },
  {
   "cell_type": "markdown",
   "id": "b8a9fe83",
   "metadata": {},
   "source": [
    "### Задание 5\n",
    "Создайте массив и отсортируйте его по убыванию."
   ]
  },
  {
   "cell_type": "code",
   "execution_count": 24,
   "id": "359d51e9",
   "metadata": {},
   "outputs": [
    {
     "name": "stdout",
     "output_type": "stream",
     "text": [
      "Введите длинну массива: \n",
      "5\n",
      "[9 8 7 3 2]\n"
     ]
    }
   ],
   "source": [
    "import numpy as np\n",
    "print(\"Введите длинну массива: \")\n",
    "a = int(input())\n",
    "b = np.random.randint(1, 10, a)\n",
    "print(np.sort(b)[::-1])"
   ]
  },
  {
   "cell_type": "markdown",
   "id": "5cb0d34b",
   "metadata": {},
   "source": [
    "### Задание 6\n",
    "Создайте матрицу, выведите ее форму, размер и размерность."
   ]
  },
  {
   "cell_type": "code",
   "execution_count": 30,
   "id": "0cb48ca8",
   "metadata": {},
   "outputs": [
    {
     "name": "stdout",
     "output_type": "stream",
     "text": [
      "[[99 69 57]\n",
      " [66 89 67]\n",
      " [71 79 94]\n",
      " [99 28 27]\n",
      " [84 99 72]\n",
      " [21 83 78]\n",
      " [79 82 98]]\n",
      "Форма матрицы - прямоугольник\n",
      "Размер матрицы: 7 X 3\n",
      "Размерность матрицы:  21\n"
     ]
    }
   ],
   "source": [
    "import numpy as np\n",
    "import random\n",
    "a = random.randint(1,20)\n",
    "b = random.randint(1,20)\n",
    "C = np.random.randint(20,100,[a,b])\n",
    "print(C)\n",
    "if a == b:\n",
    "    print(\"Форма матрицы - квадрат\")\n",
    "else:\n",
    "    print(\"Форма матрицы - прямоугольник\")\n",
    "print(\"Размер матрицы:\", a, \"X\",b)\n",
    "print(\"Размерность матрицы: \", a*b)"
   ]
  },
  {
   "cell_type": "markdown",
   "id": "d684b25f",
   "metadata": {},
   "source": [
    "## Библиотека Pandas\n",
    "```\n",
    "    Первым шагом в любом начинании в области машинного обучения является введение исходных данных в систему. Исходные данные могут вводиться вручную, содержаться в файле или храниться в интернете в каком-либо формате. Кроме того, часто требуется получить данные из нескольких источников.\n",
    "    Библиотека pandas – это удобный и быстрый инструмент для работы с данными, обладающий большим функционалом. Если очень кратко, то pandas – это библиотека, которая предоставляет очень удобные с точки зрения использования инструменты для хранения данных и работе с ними.\n",
    "    Библиотека pandas предоставляет две ключевые структуры данных: Series и DataFrame.\n",
    "    Series – это одномерная структура данных, ее можно представить, как таблицу с одной строкой. С Series можно работать как с обычным массивом (обращаться по номеру индекса), и как с ассоциированным массивом, когда можно использовать ключ для доступа к элементам данных.\n",
    "    DataFrame – это двумерная структура. Идейно она очень похожа на \n",
    "обычную таблицу, что выражается в способе ее создания и работе с ее \n",
    "элементами.\n",
    "```"
   ]
  },
  {
   "cell_type": "markdown",
   "id": "298ddc5e",
   "metadata": {},
   "source": [
    "### Пример 1\n",
    "Создать Series из списка Python, словаря Python, и массва Numpy (установить буквенные метки для последнего)"
   ]
  },
  {
   "cell_type": "code",
   "execution_count": 3,
   "id": "c0deb44d",
   "metadata": {},
   "outputs": [
    {
     "name": "stdout",
     "output_type": "stream",
     "text": [
      "0    1\n",
      "1    2\n",
      "2    3\n",
      "3    4\n",
      "4    5\n",
      "dtype: int64\n",
      "a    1\n",
      "b    2\n",
      "c    3\n",
      "dtype: int64\n",
      "a    1\n",
      "b    2\n",
      "c    3\n",
      "d    4\n",
      "e    5\n",
      "dtype: int32\n"
     ]
    }
   ],
   "source": [
    "import pandas as pd\n",
    "import numpy as np\n",
    "lst = [1,2,3,4,5]\n",
    "d = {'a':1, 'b':2, 'c':3}\n",
    "ndarr = np.array([1,2,3,4,5])\n",
    "\n",
    "s1 = pd.Series(lst)\n",
    "s2 = pd.Series(d)\n",
    "s3 = pd.Series(ndarr, ['a','b','c','d','e'])\n",
    "\n",
    "print(s1)\n",
    "print(s2)\n",
    "print(s3)"
   ]
  },
  {
   "cell_type": "markdown",
   "id": "7f814685",
   "metadata": {},
   "source": [
    "### Пример 2\n",
    "Дано два Series. Напечатать их первые элементы и все элементы после третьего (во втором фрейме)"
   ]
  },
  {
   "cell_type": "code",
   "execution_count": 4,
   "id": "06563f5b",
   "metadata": {},
   "outputs": [
    {
     "name": "stdout",
     "output_type": "stream",
     "text": [
      "1\n",
      "5\n",
      "3    2\n",
      "4    1\n",
      "dtype: int64\n"
     ]
    }
   ],
   "source": [
    "import pandas as pd\n",
    "\n",
    "s1 = pd.Series([1,2,3,4,5],['a','b','c','d','e'])\n",
    "s2 = pd.Series([5,4,3,2,1])\n",
    "print(s1['a'])\n",
    "print(s2[0])\n",
    "print(s2[3:])"
   ]
  },
  {
   "cell_type": "markdown",
   "id": "7b9a7ee4",
   "metadata": {},
   "source": [
    "### Пример 3\n",
    "Создайте новый фрейм данных"
   ]
  },
  {
   "cell_type": "code",
   "execution_count": 5,
   "id": "6566071b",
   "metadata": {},
   "outputs": [
    {
     "name": "stdout",
     "output_type": "stream",
     "text": [
      "                Имя  Возраст  Водитель\n",
      "0     Джеки Джексон       38      True\n",
      "1  Стивен Стивенсон       25     False\n"
     ]
    }
   ],
   "source": [
    "import pandas as pd\n",
    "dataframe = pd.DataFrame()\n",
    "dataframe['Имя'] = ['Джеки Джексон','Стивен Стивенсон']\n",
    "dataframe['Возраст'] = [38,25]\n",
    "dataframe['Водитель'] = [True,False]\n",
    "print(dataframe)"
   ]
  },
  {
   "cell_type": "markdown",
   "id": "397dfe63",
   "metadata": {},
   "source": [
    "### Пример 4\n",
    "Загрузите фрейм данных по ссылке:\n",
    "https://raw.githubusercontent.com/chrisalbon/simulated_datasets/master/titanic.csv"
   ]
  },
  {
   "cell_type": "code",
   "execution_count": 61,
   "id": "3314f3b2",
   "metadata": {},
   "outputs": [
    {
     "data": {
      "text/html": [
       "<div>\n",
       "<style scoped>\n",
       "    .dataframe tbody tr th:only-of-type {\n",
       "        vertical-align: middle;\n",
       "    }\n",
       "\n",
       "    .dataframe tbody tr th {\n",
       "        vertical-align: top;\n",
       "    }\n",
       "\n",
       "    .dataframe thead th {\n",
       "        text-align: right;\n",
       "    }\n",
       "</style>\n",
       "<table border=\"1\" class=\"dataframe\">\n",
       "  <thead>\n",
       "    <tr style=\"text-align: right;\">\n",
       "      <th></th>\n",
       "      <th>Name</th>\n",
       "      <th>PClass</th>\n",
       "      <th>Age</th>\n",
       "      <th>Sex</th>\n",
       "      <th>Survived</th>\n",
       "      <th>SexCode</th>\n",
       "    </tr>\n",
       "  </thead>\n",
       "  <tbody>\n",
       "    <tr>\n",
       "      <th>0</th>\n",
       "      <td>Allen, Miss Elisabeth Walton</td>\n",
       "      <td>1st</td>\n",
       "      <td>29.00</td>\n",
       "      <td>female</td>\n",
       "      <td>1</td>\n",
       "      <td>1</td>\n",
       "    </tr>\n",
       "    <tr>\n",
       "      <th>1</th>\n",
       "      <td>Allison, Miss Helen Loraine</td>\n",
       "      <td>1st</td>\n",
       "      <td>2.00</td>\n",
       "      <td>female</td>\n",
       "      <td>0</td>\n",
       "      <td>1</td>\n",
       "    </tr>\n",
       "    <tr>\n",
       "      <th>2</th>\n",
       "      <td>Allison, Mr Hudson Joshua Creighton</td>\n",
       "      <td>1st</td>\n",
       "      <td>30.00</td>\n",
       "      <td>male</td>\n",
       "      <td>0</td>\n",
       "      <td>0</td>\n",
       "    </tr>\n",
       "    <tr>\n",
       "      <th>3</th>\n",
       "      <td>Allison, Mrs Hudson JC (Bessie Waldo Daniels)</td>\n",
       "      <td>1st</td>\n",
       "      <td>25.00</td>\n",
       "      <td>female</td>\n",
       "      <td>0</td>\n",
       "      <td>1</td>\n",
       "    </tr>\n",
       "    <tr>\n",
       "      <th>4</th>\n",
       "      <td>Allison, Master Hudson Trevor</td>\n",
       "      <td>1st</td>\n",
       "      <td>0.92</td>\n",
       "      <td>male</td>\n",
       "      <td>1</td>\n",
       "      <td>0</td>\n",
       "    </tr>\n",
       "  </tbody>\n",
       "</table>\n",
       "</div>"
      ],
      "text/plain": [
       "                                            Name PClass    Age     Sex  \\\n",
       "0                   Allen, Miss Elisabeth Walton    1st  29.00  female   \n",
       "1                    Allison, Miss Helen Loraine    1st   2.00  female   \n",
       "2            Allison, Mr Hudson Joshua Creighton    1st  30.00    male   \n",
       "3  Allison, Mrs Hudson JC (Bessie Waldo Daniels)    1st  25.00  female   \n",
       "4                  Allison, Master Hudson Trevor    1st   0.92    male   \n",
       "\n",
       "   Survived  SexCode  \n",
       "0         1        1  \n",
       "1         0        1  \n",
       "2         0        0  \n",
       "3         0        1  \n",
       "4         1        0  "
      ]
     },
     "execution_count": 61,
     "metadata": {},
     "output_type": "execute_result"
    }
   ],
   "source": [
    "import pandas as pd\n",
    "url = 'https://raw.githubusercontent.com/chrisalbon/simulated_datasets/master/titanic.csv'\n",
    "dataframe= pd.read_csv(url)\n",
    "dataframe.head(5)"
   ]
  },
  {
   "cell_type": "markdown",
   "id": "25483f44",
   "metadata": {},
   "source": [
    "### Пример 5\n",
    "Пронализировать характеристики фрейма данных."
   ]
  },
  {
   "cell_type": "code",
   "execution_count": 50,
   "id": "803e896a",
   "metadata": {},
   "outputs": [
    {
     "data": {
      "text/html": [
       "<div>\n",
       "<style scoped>\n",
       "    .dataframe tbody tr th:only-of-type {\n",
       "        vertical-align: middle;\n",
       "    }\n",
       "\n",
       "    .dataframe tbody tr th {\n",
       "        vertical-align: top;\n",
       "    }\n",
       "\n",
       "    .dataframe thead th {\n",
       "        text-align: right;\n",
       "    }\n",
       "</style>\n",
       "<table border=\"1\" class=\"dataframe\">\n",
       "  <thead>\n",
       "    <tr style=\"text-align: right;\">\n",
       "      <th></th>\n",
       "      <th>Age</th>\n",
       "      <th>Survived</th>\n",
       "      <th>SexCode</th>\n",
       "    </tr>\n",
       "  </thead>\n",
       "  <tbody>\n",
       "    <tr>\n",
       "      <th>count</th>\n",
       "      <td>756.000000</td>\n",
       "      <td>1313.000000</td>\n",
       "      <td>1313.000000</td>\n",
       "    </tr>\n",
       "    <tr>\n",
       "      <th>mean</th>\n",
       "      <td>30.397989</td>\n",
       "      <td>0.342727</td>\n",
       "      <td>0.351866</td>\n",
       "    </tr>\n",
       "    <tr>\n",
       "      <th>std</th>\n",
       "      <td>14.259049</td>\n",
       "      <td>0.474802</td>\n",
       "      <td>0.477734</td>\n",
       "    </tr>\n",
       "    <tr>\n",
       "      <th>min</th>\n",
       "      <td>0.170000</td>\n",
       "      <td>0.000000</td>\n",
       "      <td>0.000000</td>\n",
       "    </tr>\n",
       "    <tr>\n",
       "      <th>25%</th>\n",
       "      <td>21.000000</td>\n",
       "      <td>0.000000</td>\n",
       "      <td>0.000000</td>\n",
       "    </tr>\n",
       "    <tr>\n",
       "      <th>50%</th>\n",
       "      <td>28.000000</td>\n",
       "      <td>0.000000</td>\n",
       "      <td>0.000000</td>\n",
       "    </tr>\n",
       "    <tr>\n",
       "      <th>75%</th>\n",
       "      <td>39.000000</td>\n",
       "      <td>1.000000</td>\n",
       "      <td>1.000000</td>\n",
       "    </tr>\n",
       "    <tr>\n",
       "      <th>max</th>\n",
       "      <td>71.000000</td>\n",
       "      <td>1.000000</td>\n",
       "      <td>1.000000</td>\n",
       "    </tr>\n",
       "  </tbody>\n",
       "</table>\n",
       "</div>"
      ],
      "text/plain": [
       "              Age     Survived      SexCode\n",
       "count  756.000000  1313.000000  1313.000000\n",
       "mean    30.397989     0.342727     0.351866\n",
       "std     14.259049     0.474802     0.477734\n",
       "min      0.170000     0.000000     0.000000\n",
       "25%     21.000000     0.000000     0.000000\n",
       "50%     28.000000     0.000000     0.000000\n",
       "75%     39.000000     1.000000     1.000000\n",
       "max     71.000000     1.000000     1.000000"
      ]
     },
     "execution_count": 50,
     "metadata": {},
     "output_type": "execute_result"
    }
   ],
   "source": [
    "import pandas as pd\n",
    "url = 'https://raw.githubusercontent.com/chrisalbon/simulated_datasets/master/titanic.csv'\n",
    "dataframe= pd.read_csv(url)\n",
    "dataframe.head(2)\n",
    "dataframe.tail(3)\n",
    "dataframe.shape\n",
    "dataframe.describe()"
   ]
  },
  {
   "cell_type": "markdown",
   "id": "2daa3818",
   "metadata": {},
   "source": [
    "### Пример 6\n",
    "Выберите индивидуальные данные или срезы фрейма данных"
   ]
  },
  {
   "cell_type": "code",
   "execution_count": 8,
   "id": "7eaefdd4",
   "metadata": {},
   "outputs": [
    {
     "data": {
      "text/html": [
       "<div>\n",
       "<style scoped>\n",
       "    .dataframe tbody tr th:only-of-type {\n",
       "        vertical-align: middle;\n",
       "    }\n",
       "\n",
       "    .dataframe tbody tr th {\n",
       "        vertical-align: top;\n",
       "    }\n",
       "\n",
       "    .dataframe thead th {\n",
       "        text-align: right;\n",
       "    }\n",
       "</style>\n",
       "<table border=\"1\" class=\"dataframe\">\n",
       "  <thead>\n",
       "    <tr style=\"text-align: right;\">\n",
       "      <th></th>\n",
       "      <th>Name</th>\n",
       "      <th>PClass</th>\n",
       "      <th>Age</th>\n",
       "      <th>Sex</th>\n",
       "      <th>Survived</th>\n",
       "      <th>SexCode</th>\n",
       "    </tr>\n",
       "  </thead>\n",
       "  <tbody>\n",
       "    <tr>\n",
       "      <th>1</th>\n",
       "      <td>Allison, Miss Helen Loraine</td>\n",
       "      <td>1st</td>\n",
       "      <td>2.0</td>\n",
       "      <td>female</td>\n",
       "      <td>0</td>\n",
       "      <td>1</td>\n",
       "    </tr>\n",
       "    <tr>\n",
       "      <th>2</th>\n",
       "      <td>Allison, Mr Hudson Joshua Creighton</td>\n",
       "      <td>1st</td>\n",
       "      <td>30.0</td>\n",
       "      <td>male</td>\n",
       "      <td>0</td>\n",
       "      <td>0</td>\n",
       "    </tr>\n",
       "    <tr>\n",
       "      <th>3</th>\n",
       "      <td>Allison, Mrs Hudson JC (Bessie Waldo Daniels)</td>\n",
       "      <td>1st</td>\n",
       "      <td>25.0</td>\n",
       "      <td>female</td>\n",
       "      <td>0</td>\n",
       "      <td>1</td>\n",
       "    </tr>\n",
       "  </tbody>\n",
       "</table>\n",
       "</div>"
      ],
      "text/plain": [
       "                                            Name PClass   Age     Sex  \\\n",
       "1                    Allison, Miss Helen Loraine    1st   2.0  female   \n",
       "2            Allison, Mr Hudson Joshua Creighton    1st  30.0    male   \n",
       "3  Allison, Mrs Hudson JC (Bessie Waldo Daniels)    1st  25.0  female   \n",
       "\n",
       "   Survived  SexCode  \n",
       "1         0        1  \n",
       "2         0        0  \n",
       "3         0        1  "
      ]
     },
     "execution_count": 8,
     "metadata": {},
     "output_type": "execute_result"
    }
   ],
   "source": [
    "import pandas as pd\n",
    "url = 'https://raw.githubusercontent.com/chrisalbon/simulated_datasets/master/titanic.csv'\n",
    "dataframe= pd.read_csv(url)\n",
    "dataframe.iloc[1:4]"
   ]
  },
  {
   "cell_type": "markdown",
   "id": "0e52a6b2",
   "metadata": {},
   "source": [
    "### Пример 7\n",
    "Требуется отобрать строки фрейма данных на основе некоторого\n",
    "условия. Необходимо сформировать новый фрейм данных из пассажиров\n",
    "первого класса."
   ]
  },
  {
   "cell_type": "code",
   "execution_count": 9,
   "id": "4ab97160",
   "metadata": {},
   "outputs": [
    {
     "data": {
      "text/html": [
       "<div>\n",
       "<style scoped>\n",
       "    .dataframe tbody tr th:only-of-type {\n",
       "        vertical-align: middle;\n",
       "    }\n",
       "\n",
       "    .dataframe tbody tr th {\n",
       "        vertical-align: top;\n",
       "    }\n",
       "\n",
       "    .dataframe thead th {\n",
       "        text-align: right;\n",
       "    }\n",
       "</style>\n",
       "<table border=\"1\" class=\"dataframe\">\n",
       "  <thead>\n",
       "    <tr style=\"text-align: right;\">\n",
       "      <th></th>\n",
       "      <th>Name</th>\n",
       "      <th>PClass</th>\n",
       "      <th>Age</th>\n",
       "      <th>Sex</th>\n",
       "      <th>Survived</th>\n",
       "      <th>SexCode</th>\n",
       "    </tr>\n",
       "  </thead>\n",
       "  <tbody>\n",
       "    <tr>\n",
       "      <th>0</th>\n",
       "      <td>Allen, Miss Elisabeth Walton</td>\n",
       "      <td>1st</td>\n",
       "      <td>29.0</td>\n",
       "      <td>female</td>\n",
       "      <td>1</td>\n",
       "      <td>1</td>\n",
       "    </tr>\n",
       "    <tr>\n",
       "      <th>1</th>\n",
       "      <td>Allison, Miss Helen Loraine</td>\n",
       "      <td>1st</td>\n",
       "      <td>2.0</td>\n",
       "      <td>female</td>\n",
       "      <td>0</td>\n",
       "      <td>1</td>\n",
       "    </tr>\n",
       "  </tbody>\n",
       "</table>\n",
       "</div>"
      ],
      "text/plain": [
       "                           Name PClass   Age     Sex  Survived  SexCode\n",
       "0  Allen, Miss Elisabeth Walton    1st  29.0  female         1        1\n",
       "1   Allison, Miss Helen Loraine    1st   2.0  female         0        1"
      ]
     },
     "execution_count": 9,
     "metadata": {},
     "output_type": "execute_result"
    }
   ],
   "source": [
    "import pandas as pd\n",
    "url = 'https://raw.githubusercontent.com/chrisalbon/simulated_datasets/master/titanic.csv'\n",
    "dataframe= pd.read_csv(url)\n",
    "dataframe[dataframe['PClass']=='1st'].head(2)"
   ]
  },
  {
   "cell_type": "markdown",
   "id": "bf35b450",
   "metadata": {},
   "source": [
    "### Задание 1\n",
    "Найти евклидово расстояние между двумя Series (точками) a и b, неиспользуя встроенную формулу."
   ]
  },
  {
   "cell_type": "code",
   "execution_count": 14,
   "id": "d447f96c",
   "metadata": {},
   "outputs": [
    {
     "name": "stdout",
     "output_type": "stream",
     "text": [
      "Введите координаты первой точки\n",
      "1 3 3\n",
      "Введите координаты второй точки\n",
      "8 8 8\n",
      "9.9498743710662\n"
     ]
    }
   ],
   "source": [
    "import pandas as pd\n",
    "import numpy as np\n",
    "print(\"Введите координаты первой точки\")\n",
    "a,b,c = map(int, input().split())\n",
    "A = np.array([a,b,c])\n",
    "print(\"Введите координаты второй точки\")\n",
    "d,e,f = map(int, input().split())\n",
    "B = np.array([d,e,f])\n",
    "s1 = pd.Series(A)\n",
    "s2 = pd.Series(B)\n",
    "op1 = np.sqrt(np.sum(np.square(s1-s2)))\n",
    "print(op1)"
   ]
  },
  {
   "cell_type": "markdown",
   "id": "4c9a2013",
   "metadata": {},
   "source": [
    "### Задание 2\n",
    "Найдите в Интернете ссылку на любой csv файл и сформируйте из него фрейм данных"
   ]
  },
  {
   "cell_type": "code",
   "execution_count": 20,
   "id": "82232c5c",
   "metadata": {},
   "outputs": [
    {
     "data": {
      "text/html": [
       "<div>\n",
       "<style scoped>\n",
       "    .dataframe tbody tr th:only-of-type {\n",
       "        vertical-align: middle;\n",
       "    }\n",
       "\n",
       "    .dataframe tbody tr th {\n",
       "        vertical-align: top;\n",
       "    }\n",
       "\n",
       "    .dataframe thead th {\n",
       "        text-align: right;\n",
       "    }\n",
       "</style>\n",
       "<table border=\"1\" class=\"dataframe\">\n",
       "  <thead>\n",
       "    <tr style=\"text-align: right;\">\n",
       "      <th></th>\n",
       "      <th>Gender</th>\n",
       "      <th>Length</th>\n",
       "      <th>Diameter</th>\n",
       "      <th>Height</th>\n",
       "      <th>Whole weight</th>\n",
       "      <th>Shucked weight</th>\n",
       "      <th>Viscera weight</th>\n",
       "      <th>Shell weight</th>\n",
       "      <th>Rings</th>\n",
       "    </tr>\n",
       "  </thead>\n",
       "  <tbody>\n",
       "    <tr>\n",
       "      <th>0</th>\n",
       "      <td>M</td>\n",
       "      <td>0.455</td>\n",
       "      <td>0.365</td>\n",
       "      <td>0.095</td>\n",
       "      <td>0.5140</td>\n",
       "      <td>0.2245</td>\n",
       "      <td>0.1010</td>\n",
       "      <td>0.150</td>\n",
       "      <td>15</td>\n",
       "    </tr>\n",
       "    <tr>\n",
       "      <th>1</th>\n",
       "      <td>M</td>\n",
       "      <td>0.350</td>\n",
       "      <td>0.265</td>\n",
       "      <td>0.090</td>\n",
       "      <td>0.2255</td>\n",
       "      <td>0.0995</td>\n",
       "      <td>0.0485</td>\n",
       "      <td>0.070</td>\n",
       "      <td>7</td>\n",
       "    </tr>\n",
       "    <tr>\n",
       "      <th>2</th>\n",
       "      <td>F</td>\n",
       "      <td>0.530</td>\n",
       "      <td>0.420</td>\n",
       "      <td>0.135</td>\n",
       "      <td>0.6770</td>\n",
       "      <td>0.2565</td>\n",
       "      <td>0.1415</td>\n",
       "      <td>0.210</td>\n",
       "      <td>9</td>\n",
       "    </tr>\n",
       "    <tr>\n",
       "      <th>3</th>\n",
       "      <td>M</td>\n",
       "      <td>0.440</td>\n",
       "      <td>0.365</td>\n",
       "      <td>0.125</td>\n",
       "      <td>0.5160</td>\n",
       "      <td>0.2155</td>\n",
       "      <td>0.1140</td>\n",
       "      <td>0.155</td>\n",
       "      <td>10</td>\n",
       "    </tr>\n",
       "    <tr>\n",
       "      <th>4</th>\n",
       "      <td>I</td>\n",
       "      <td>0.330</td>\n",
       "      <td>0.255</td>\n",
       "      <td>0.080</td>\n",
       "      <td>0.2050</td>\n",
       "      <td>0.0895</td>\n",
       "      <td>0.0395</td>\n",
       "      <td>0.055</td>\n",
       "      <td>7</td>\n",
       "    </tr>\n",
       "    <tr>\n",
       "      <th>5</th>\n",
       "      <td>I</td>\n",
       "      <td>0.425</td>\n",
       "      <td>0.300</td>\n",
       "      <td>0.095</td>\n",
       "      <td>0.3515</td>\n",
       "      <td>0.1410</td>\n",
       "      <td>0.0775</td>\n",
       "      <td>0.120</td>\n",
       "      <td>8</td>\n",
       "    </tr>\n",
       "    <tr>\n",
       "      <th>6</th>\n",
       "      <td>F</td>\n",
       "      <td>0.530</td>\n",
       "      <td>0.415</td>\n",
       "      <td>0.150</td>\n",
       "      <td>0.7775</td>\n",
       "      <td>0.2370</td>\n",
       "      <td>0.1415</td>\n",
       "      <td>0.330</td>\n",
       "      <td>20</td>\n",
       "    </tr>\n",
       "    <tr>\n",
       "      <th>7</th>\n",
       "      <td>F</td>\n",
       "      <td>0.545</td>\n",
       "      <td>0.425</td>\n",
       "      <td>0.125</td>\n",
       "      <td>0.7680</td>\n",
       "      <td>0.2940</td>\n",
       "      <td>0.1495</td>\n",
       "      <td>0.260</td>\n",
       "      <td>16</td>\n",
       "    </tr>\n",
       "    <tr>\n",
       "      <th>8</th>\n",
       "      <td>M</td>\n",
       "      <td>0.475</td>\n",
       "      <td>0.370</td>\n",
       "      <td>0.125</td>\n",
       "      <td>0.5095</td>\n",
       "      <td>0.2165</td>\n",
       "      <td>0.1125</td>\n",
       "      <td>0.165</td>\n",
       "      <td>9</td>\n",
       "    </tr>\n",
       "    <tr>\n",
       "      <th>9</th>\n",
       "      <td>F</td>\n",
       "      <td>0.550</td>\n",
       "      <td>0.440</td>\n",
       "      <td>0.150</td>\n",
       "      <td>0.8945</td>\n",
       "      <td>0.3145</td>\n",
       "      <td>0.1510</td>\n",
       "      <td>0.320</td>\n",
       "      <td>19</td>\n",
       "    </tr>\n",
       "  </tbody>\n",
       "</table>\n",
       "</div>"
      ],
      "text/plain": [
       "  Gender  Length  Diameter  Height  Whole weight  Shucked weight  \\\n",
       "0      M   0.455     0.365   0.095        0.5140          0.2245   \n",
       "1      M   0.350     0.265   0.090        0.2255          0.0995   \n",
       "2      F   0.530     0.420   0.135        0.6770          0.2565   \n",
       "3      M   0.440     0.365   0.125        0.5160          0.2155   \n",
       "4      I   0.330     0.255   0.080        0.2050          0.0895   \n",
       "5      I   0.425     0.300   0.095        0.3515          0.1410   \n",
       "6      F   0.530     0.415   0.150        0.7775          0.2370   \n",
       "7      F   0.545     0.425   0.125        0.7680          0.2940   \n",
       "8      M   0.475     0.370   0.125        0.5095          0.2165   \n",
       "9      F   0.550     0.440   0.150        0.8945          0.3145   \n",
       "\n",
       "   Viscera weight  Shell weight  Rings  \n",
       "0          0.1010         0.150     15  \n",
       "1          0.0485         0.070      7  \n",
       "2          0.1415         0.210      9  \n",
       "3          0.1140         0.155     10  \n",
       "4          0.0395         0.055      7  \n",
       "5          0.0775         0.120      8  \n",
       "6          0.1415         0.330     20  \n",
       "7          0.1495         0.260     16  \n",
       "8          0.1125         0.165      9  \n",
       "9          0.1510         0.320     19  "
      ]
     },
     "execution_count": 20,
     "metadata": {},
     "output_type": "execute_result"
    }
   ],
   "source": [
    "import pandas as pd\n",
    "url = 'https://raw.githubusercontent.com/akmand/datasets/main/abolone.csv'\n",
    "dataframe= pd.read_csv(url)\n",
    "dataframe.head(10)"
   ]
  },
  {
   "cell_type": "markdown",
   "id": "fb68610f",
   "metadata": {},
   "source": [
    "### Задание 3\n",
    "Проделать с получившемся из предыдущего задания фреймом данных те же действия, что и в примерах 5-7"
   ]
  },
  {
   "cell_type": "code",
   "execution_count": 65,
   "id": "17948857",
   "metadata": {},
   "outputs": [
    {
     "data": {
      "text/html": [
       "<div>\n",
       "<style scoped>\n",
       "    .dataframe tbody tr th:only-of-type {\n",
       "        vertical-align: middle;\n",
       "    }\n",
       "\n",
       "    .dataframe tbody tr th {\n",
       "        vertical-align: top;\n",
       "    }\n",
       "\n",
       "    .dataframe thead th {\n",
       "        text-align: right;\n",
       "    }\n",
       "</style>\n",
       "<table border=\"1\" class=\"dataframe\">\n",
       "  <thead>\n",
       "    <tr style=\"text-align: right;\">\n",
       "      <th></th>\n",
       "      <th>Gender</th>\n",
       "      <th>Length</th>\n",
       "      <th>Diameter</th>\n",
       "      <th>Height</th>\n",
       "      <th>Whole weight</th>\n",
       "      <th>Shucked weight</th>\n",
       "      <th>Viscera weight</th>\n",
       "      <th>Shell weight</th>\n",
       "      <th>Rings</th>\n",
       "    </tr>\n",
       "  </thead>\n",
       "  <tbody>\n",
       "    <tr>\n",
       "      <th>0</th>\n",
       "      <td>M</td>\n",
       "      <td>0.455</td>\n",
       "      <td>0.365</td>\n",
       "      <td>0.095</td>\n",
       "      <td>0.5140</td>\n",
       "      <td>0.2245</td>\n",
       "      <td>0.1010</td>\n",
       "      <td>0.15</td>\n",
       "      <td>15</td>\n",
       "    </tr>\n",
       "    <tr>\n",
       "      <th>47</th>\n",
       "      <td>F</td>\n",
       "      <td>0.460</td>\n",
       "      <td>0.375</td>\n",
       "      <td>0.120</td>\n",
       "      <td>0.4605</td>\n",
       "      <td>0.1775</td>\n",
       "      <td>0.1100</td>\n",
       "      <td>0.15</td>\n",
       "      <td>7</td>\n",
       "    </tr>\n",
       "    <tr>\n",
       "      <th>53</th>\n",
       "      <td>F</td>\n",
       "      <td>0.470</td>\n",
       "      <td>0.360</td>\n",
       "      <td>0.120</td>\n",
       "      <td>0.4775</td>\n",
       "      <td>0.2105</td>\n",
       "      <td>0.1055</td>\n",
       "      <td>0.15</td>\n",
       "      <td>10</td>\n",
       "    </tr>\n",
       "    <tr>\n",
       "      <th>193</th>\n",
       "      <td>I</td>\n",
       "      <td>0.355</td>\n",
       "      <td>0.275</td>\n",
       "      <td>0.085</td>\n",
       "      <td>0.2200</td>\n",
       "      <td>0.0920</td>\n",
       "      <td>0.0600</td>\n",
       "      <td>0.15</td>\n",
       "      <td>8</td>\n",
       "    </tr>\n",
       "    <tr>\n",
       "      <th>282</th>\n",
       "      <td>F</td>\n",
       "      <td>0.455</td>\n",
       "      <td>0.355</td>\n",
       "      <td>0.120</td>\n",
       "      <td>0.4495</td>\n",
       "      <td>0.1770</td>\n",
       "      <td>0.1040</td>\n",
       "      <td>0.15</td>\n",
       "      <td>9</td>\n",
       "    </tr>\n",
       "    <tr>\n",
       "      <th>298</th>\n",
       "      <td>M</td>\n",
       "      <td>0.490</td>\n",
       "      <td>0.395</td>\n",
       "      <td>0.140</td>\n",
       "      <td>0.5490</td>\n",
       "      <td>0.2215</td>\n",
       "      <td>0.1275</td>\n",
       "      <td>0.15</td>\n",
       "      <td>11</td>\n",
       "    </tr>\n",
       "    <tr>\n",
       "      <th>304</th>\n",
       "      <td>F</td>\n",
       "      <td>0.470</td>\n",
       "      <td>0.360</td>\n",
       "      <td>0.130</td>\n",
       "      <td>0.4720</td>\n",
       "      <td>0.1820</td>\n",
       "      <td>0.1140</td>\n",
       "      <td>0.15</td>\n",
       "      <td>10</td>\n",
       "    </tr>\n",
       "    <tr>\n",
       "      <th>406</th>\n",
       "      <td>M</td>\n",
       "      <td>0.450</td>\n",
       "      <td>0.355</td>\n",
       "      <td>0.115</td>\n",
       "      <td>0.4790</td>\n",
       "      <td>0.2125</td>\n",
       "      <td>0.1045</td>\n",
       "      <td>0.15</td>\n",
       "      <td>8</td>\n",
       "    </tr>\n",
       "    <tr>\n",
       "      <th>588</th>\n",
       "      <td>M</td>\n",
       "      <td>0.450</td>\n",
       "      <td>0.335</td>\n",
       "      <td>0.140</td>\n",
       "      <td>0.4625</td>\n",
       "      <td>0.1640</td>\n",
       "      <td>0.0760</td>\n",
       "      <td>0.15</td>\n",
       "      <td>14</td>\n",
       "    </tr>\n",
       "    <tr>\n",
       "      <th>947</th>\n",
       "      <td>M</td>\n",
       "      <td>0.475</td>\n",
       "      <td>0.370</td>\n",
       "      <td>0.125</td>\n",
       "      <td>0.5370</td>\n",
       "      <td>0.2220</td>\n",
       "      <td>0.1215</td>\n",
       "      <td>0.15</td>\n",
       "      <td>9</td>\n",
       "    </tr>\n",
       "  </tbody>\n",
       "</table>\n",
       "</div>"
      ],
      "text/plain": [
       "    Gender  Length  Diameter  Height  Whole weight  Shucked weight  \\\n",
       "0        M   0.455     0.365   0.095        0.5140          0.2245   \n",
       "47       F   0.460     0.375   0.120        0.4605          0.1775   \n",
       "53       F   0.470     0.360   0.120        0.4775          0.2105   \n",
       "193      I   0.355     0.275   0.085        0.2200          0.0920   \n",
       "282      F   0.455     0.355   0.120        0.4495          0.1770   \n",
       "298      M   0.490     0.395   0.140        0.5490          0.2215   \n",
       "304      F   0.470     0.360   0.130        0.4720          0.1820   \n",
       "406      M   0.450     0.355   0.115        0.4790          0.2125   \n",
       "588      M   0.450     0.335   0.140        0.4625          0.1640   \n",
       "947      M   0.475     0.370   0.125        0.5370          0.2220   \n",
       "\n",
       "     Viscera weight  Shell weight  Rings  \n",
       "0            0.1010          0.15     15  \n",
       "47           0.1100          0.15      7  \n",
       "53           0.1055          0.15     10  \n",
       "193          0.0600          0.15      8  \n",
       "282          0.1040          0.15      9  \n",
       "298          0.1275          0.15     11  \n",
       "304          0.1140          0.15     10  \n",
       "406          0.1045          0.15      8  \n",
       "588          0.0760          0.15     14  \n",
       "947          0.1215          0.15      9  "
      ]
     },
     "execution_count": 65,
     "metadata": {},
     "output_type": "execute_result"
    }
   ],
   "source": [
    "import pandas as pd\n",
    "url = 'https://raw.githubusercontent.com/akmand/datasets/main/abolone.csv'\n",
    "dataframe = pd.read_csv(url)\n",
    "#dataframe.head(3)\n",
    "#dataframe.tail(5)\n",
    "#dataframe.shape\n",
    "#dataframe.describe()\n",
    "##url1 = 'https://raw.githubusercontent.com/akmand/datasets/main/abolone.csv'\n",
    "#dataframe1 = pd.read_csv(url1)\n",
    "#dataframe.iloc[1:4]\n",
    "dataframe[dataframe['Shell weight']==0.150].head(10)"
   ]
  },
  {
   "cell_type": "markdown",
   "id": "3fa74a90",
   "metadata": {},
   "source": [
    "## Работа с числовыми данными\n",
    "Количественные данные что-то измеряют – будь то размер класса, ежемесячные продажи или оценки учащихся. Естественным способом представления этих величин является численным (например, 150 студентов, $529 392 продаж). \n",
    "\n",
    "***Нормализация данных*** — это общепринятая задача предобработки в машинном обучении. Многие алгоритмы предполагают, что все признаки находятся в единой шкале, как правило, от 0 до 1 или от -1 до 1. \n",
    "   \n",
    "Существует множество способов нормализации значений признаков, чтобы масштабировать их к единому диапазону и использовать в различных моделях машинного обучения. В зависимости от используемой функции, их можно разделить на 2 большие группы: линейные и нелинейные. При нелинейной нормализации в расчетных соотношениях используются функции логистической сигмоиды или гиперболического тангенса. В\n",
    "линейной нормализации изменение переменных осуществляется пропорционально, по линейному закону.\n",
    "\n",
    "На практике наиболее распространены следующие методы нормализации признаков:\n",
    "\n",
    "***Минимакс*** – линейное преобразование данных в диапазоне [0..1], где\n",
    "минимальное и максимальное масштабируемые значения\n",
    "соответствуют 0 и 1 соответственно;\n",
    "\n",
    "***Z-масштабирование*** данных на основе среднего значения и\n",
    "стандартного отклонения: производят деление разницы между\n",
    "переменной и средним значением на стандартное отклонение.\n",
    "\n",
    "При масштабировании данных мы будем использовать одну из\n",
    "популярных библиотек машинного обучения Scikit-learn. Библиотека\n",
    "содержит пакет sklearn.preprocessing, который предоставляет широкие\n",
    "возможности для нормализации данных. Следует отметить, что в целом\n",
    "алгоритмы обучения выигрывают от стандартизации набора данных."
   ]
  },
  {
   "cell_type": "markdown",
   "id": "2aa89235",
   "metadata": {},
   "source": [
    "### Пример 1\n",
    "Прошкалируйте числовой признак в диапазон между двумя значениями."
   ]
  },
  {
   "cell_type": "code",
   "execution_count": 39,
   "id": "761102b1",
   "metadata": {},
   "outputs": [
    {
     "data": {
      "text/plain": [
       "array([[0.        ],\n",
       "       [0.28571429],\n",
       "       [0.35714286],\n",
       "       [0.42857143],\n",
       "       [1.        ]])"
      ]
     },
     "execution_count": 39,
     "metadata": {},
     "output_type": "execute_result"
    }
   ],
   "source": [
    "import numpy as np\n",
    "from sklearn import preprocessing\n",
    "\n",
    "feature = np.array([[-500.5], [-100.1], [0], [100.1], [900.9]])\n",
    "minmax_scale = preprocessing.MinMaxScaler(feature_range = (0, 1))\n",
    "scaled_feature = minmax_scale.fit_transform(feature)\n",
    "scaled_feature"
   ]
  },
  {
   "cell_type": "markdown",
   "id": "56fd148f",
   "metadata": {},
   "source": [
    "### Пример 2\n",
    "Преобразуйте признак, чтобы он имел среднее значение 0 и стандартное отклонение 1."
   ]
  },
  {
   "cell_type": "code",
   "execution_count": 41,
   "id": "144bbede",
   "metadata": {},
   "outputs": [
    {
     "data": {
      "text/plain": [
       "array([[-1.26687088],\n",
       "       [-0.39316683],\n",
       "       [-0.17474081],\n",
       "       [ 0.0436852 ],\n",
       "       [ 1.79109332]])"
      ]
     },
     "execution_count": 41,
     "metadata": {},
     "output_type": "execute_result"
    }
   ],
   "source": [
    "import numpy as np\n",
    "from sklearn import preprocessing\n",
    "\n",
    "x = np.array([[-500.5], [-100.1], [0], [100.1], [900.9]])\n",
    "scaler = preprocessing.StandardScaler()\n",
    "standardized = scaler.fit_transform(x)\n",
    "standardized"
   ]
  },
  {
   "cell_type": "markdown",
   "id": "4209d202",
   "metadata": {},
   "source": [
    "### Пример 3\n",
    "Дан фрейм данных\n",
    "dfTest = pd.DataFrame({'A':[14.00,90.20,90.95,96.27,91.21],\n",
    " 'B':[103.02,107.26,110.35,114.23,114.68],\n",
    " 'C':['big','small','big','small','small']})\n",
    "Необходимо масштабировать его числовые столбцы"
   ]
  },
  {
   "cell_type": "code",
   "execution_count": 42,
   "id": "fd422864",
   "metadata": {},
   "outputs": [
    {
     "data": {
      "text/html": [
       "<div>\n",
       "<style scoped>\n",
       "    .dataframe tbody tr th:only-of-type {\n",
       "        vertical-align: middle;\n",
       "    }\n",
       "\n",
       "    .dataframe tbody tr th {\n",
       "        vertical-align: top;\n",
       "    }\n",
       "\n",
       "    .dataframe thead th {\n",
       "        text-align: right;\n",
       "    }\n",
       "</style>\n",
       "<table border=\"1\" class=\"dataframe\">\n",
       "  <thead>\n",
       "    <tr style=\"text-align: right;\">\n",
       "      <th></th>\n",
       "      <th>A</th>\n",
       "      <th>B</th>\n",
       "      <th>C</th>\n",
       "    </tr>\n",
       "  </thead>\n",
       "  <tbody>\n",
       "    <tr>\n",
       "      <th>0</th>\n",
       "      <td>0.000000</td>\n",
       "      <td>0.000000</td>\n",
       "      <td>big</td>\n",
       "    </tr>\n",
       "    <tr>\n",
       "      <th>1</th>\n",
       "      <td>0.926219</td>\n",
       "      <td>0.363636</td>\n",
       "      <td>small</td>\n",
       "    </tr>\n",
       "    <tr>\n",
       "      <th>2</th>\n",
       "      <td>0.935335</td>\n",
       "      <td>0.628645</td>\n",
       "      <td>big</td>\n",
       "    </tr>\n",
       "    <tr>\n",
       "      <th>3</th>\n",
       "      <td>1.000000</td>\n",
       "      <td>0.961407</td>\n",
       "      <td>small</td>\n",
       "    </tr>\n",
       "    <tr>\n",
       "      <th>4</th>\n",
       "      <td>0.938495</td>\n",
       "      <td>1.000000</td>\n",
       "      <td>small</td>\n",
       "    </tr>\n",
       "  </tbody>\n",
       "</table>\n",
       "</div>"
      ],
      "text/plain": [
       "          A         B      C\n",
       "0  0.000000  0.000000    big\n",
       "1  0.926219  0.363636  small\n",
       "2  0.935335  0.628645    big\n",
       "3  1.000000  0.961407  small\n",
       "4  0.938495  1.000000  small"
      ]
     },
     "execution_count": 42,
     "metadata": {},
     "output_type": "execute_result"
    }
   ],
   "source": [
    "import pandas as pd\n",
    "from sklearn.preprocessing import MinMaxScaler\n",
    "scaler = MinMaxScaler()\n",
    "dfTest = pd.DataFrame({'A':[14.00,90.20,90.95,96.27,91.21],\n",
    "                       'B':[103.02,107.26,110.35,114.23,114.68],\n",
    "                       'C':['big','small','big','small','small']})\n",
    "dfTest[['A', 'B']] = scaler.fit_transform(dfTest[['A', 'B']])\n",
    "dfTest"
   ]
  },
  {
   "cell_type": "markdown",
   "id": "432f3517",
   "metadata": {},
   "source": [
    "### Задача\n",
    "Загрузить фрейм данных по ссылке:\n",
    "https://raw.githubusercontent.com/akmand/datasets/master/iris.csv.\n",
    "Необходимо выполнить нормализацию первого числового признака\n",
    "(sepal_length_cm) с использованием минимаксного преобразования, а\n",
    "второго (sepal_width_cm) с задействованием z-масштабирования."
   ]
  },
  {
   "cell_type": "code",
   "execution_count": 74,
   "id": "4af5a1f3",
   "metadata": {},
   "outputs": [
    {
     "data": {
      "text/html": [
       "<div>\n",
       "<style scoped>\n",
       "    .dataframe tbody tr th:only-of-type {\n",
       "        vertical-align: middle;\n",
       "    }\n",
       "\n",
       "    .dataframe tbody tr th {\n",
       "        vertical-align: top;\n",
       "    }\n",
       "\n",
       "    .dataframe thead th {\n",
       "        text-align: right;\n",
       "    }\n",
       "</style>\n",
       "<table border=\"1\" class=\"dataframe\">\n",
       "  <thead>\n",
       "    <tr style=\"text-align: right;\">\n",
       "      <th></th>\n",
       "      <th>sepal_length_cm</th>\n",
       "      <th>sepal_width_cm</th>\n",
       "      <th>petal_length_cm</th>\n",
       "      <th>petal_width_cm</th>\n",
       "      <th>species</th>\n",
       "    </tr>\n",
       "  </thead>\n",
       "  <tbody>\n",
       "    <tr>\n",
       "      <th>0</th>\n",
       "      <td>0.222222</td>\n",
       "      <td>0.625000</td>\n",
       "      <td>1.4</td>\n",
       "      <td>0.2</td>\n",
       "      <td>setosa</td>\n",
       "    </tr>\n",
       "    <tr>\n",
       "      <th>1</th>\n",
       "      <td>0.166667</td>\n",
       "      <td>0.416667</td>\n",
       "      <td>1.4</td>\n",
       "      <td>0.2</td>\n",
       "      <td>setosa</td>\n",
       "    </tr>\n",
       "    <tr>\n",
       "      <th>2</th>\n",
       "      <td>0.111111</td>\n",
       "      <td>0.500000</td>\n",
       "      <td>1.3</td>\n",
       "      <td>0.2</td>\n",
       "      <td>setosa</td>\n",
       "    </tr>\n",
       "    <tr>\n",
       "      <th>3</th>\n",
       "      <td>0.083333</td>\n",
       "      <td>0.458333</td>\n",
       "      <td>1.5</td>\n",
       "      <td>0.2</td>\n",
       "      <td>setosa</td>\n",
       "    </tr>\n",
       "    <tr>\n",
       "      <th>4</th>\n",
       "      <td>0.194444</td>\n",
       "      <td>0.666667</td>\n",
       "      <td>1.4</td>\n",
       "      <td>0.2</td>\n",
       "      <td>setosa</td>\n",
       "    </tr>\n",
       "    <tr>\n",
       "      <th>...</th>\n",
       "      <td>...</td>\n",
       "      <td>...</td>\n",
       "      <td>...</td>\n",
       "      <td>...</td>\n",
       "      <td>...</td>\n",
       "    </tr>\n",
       "    <tr>\n",
       "      <th>145</th>\n",
       "      <td>0.666667</td>\n",
       "      <td>0.416667</td>\n",
       "      <td>5.2</td>\n",
       "      <td>2.3</td>\n",
       "      <td>virginica</td>\n",
       "    </tr>\n",
       "    <tr>\n",
       "      <th>146</th>\n",
       "      <td>0.555556</td>\n",
       "      <td>0.208333</td>\n",
       "      <td>5.0</td>\n",
       "      <td>1.9</td>\n",
       "      <td>virginica</td>\n",
       "    </tr>\n",
       "    <tr>\n",
       "      <th>147</th>\n",
       "      <td>0.611111</td>\n",
       "      <td>0.416667</td>\n",
       "      <td>5.2</td>\n",
       "      <td>2.0</td>\n",
       "      <td>virginica</td>\n",
       "    </tr>\n",
       "    <tr>\n",
       "      <th>148</th>\n",
       "      <td>0.527778</td>\n",
       "      <td>0.583333</td>\n",
       "      <td>5.4</td>\n",
       "      <td>2.3</td>\n",
       "      <td>virginica</td>\n",
       "    </tr>\n",
       "    <tr>\n",
       "      <th>149</th>\n",
       "      <td>0.444444</td>\n",
       "      <td>0.416667</td>\n",
       "      <td>5.1</td>\n",
       "      <td>1.8</td>\n",
       "      <td>virginica</td>\n",
       "    </tr>\n",
       "  </tbody>\n",
       "</table>\n",
       "<p>150 rows × 5 columns</p>\n",
       "</div>"
      ],
      "text/plain": [
       "     sepal_length_cm  sepal_width_cm  petal_length_cm  petal_width_cm  \\\n",
       "0           0.222222        0.625000              1.4             0.2   \n",
       "1           0.166667        0.416667              1.4             0.2   \n",
       "2           0.111111        0.500000              1.3             0.2   \n",
       "3           0.083333        0.458333              1.5             0.2   \n",
       "4           0.194444        0.666667              1.4             0.2   \n",
       "..               ...             ...              ...             ...   \n",
       "145         0.666667        0.416667              5.2             2.3   \n",
       "146         0.555556        0.208333              5.0             1.9   \n",
       "147         0.611111        0.416667              5.2             2.0   \n",
       "148         0.527778        0.583333              5.4             2.3   \n",
       "149         0.444444        0.416667              5.1             1.8   \n",
       "\n",
       "       species  \n",
       "0       setosa  \n",
       "1       setosa  \n",
       "2       setosa  \n",
       "3       setosa  \n",
       "4       setosa  \n",
       "..         ...  \n",
       "145  virginica  \n",
       "146  virginica  \n",
       "147  virginica  \n",
       "148  virginica  \n",
       "149  virginica  \n",
       "\n",
       "[150 rows x 5 columns]"
      ]
     },
     "execution_count": 74,
     "metadata": {},
     "output_type": "execute_result"
    }
   ],
   "source": [
    "import pandas as pd\n",
    "from sklearn import preprocessing\n",
    "url = 'https://raw.githubusercontent.com/akmand/datasets/master/iris.csv'\n",
    "dataframe= pd.read_csv(url)\n",
    "scaler = preprocessing.MinMaxScaler()\n",
    "dataframe[['sepal_length_cm']] = scaler.fit_transform(dataframe[['sepal_length_cm']])\n",
    "sclr = preprocessing.StandardScaler()\n",
    "dataframe[['sepal_width_cm']] = scaler.fit_transform(dataframe[['sepal_width_cm']])\n",
    "dataframe"
   ]
  }
 ],
 "metadata": {
  "kernelspec": {
   "display_name": "Python 3 (ipykernel)",
   "language": "python",
   "name": "python3"
  },
  "language_info": {
   "codemirror_mode": {
    "name": "ipython",
    "version": 3
   },
   "file_extension": ".py",
   "mimetype": "text/x-python",
   "name": "python",
   "nbconvert_exporter": "python",
   "pygments_lexer": "ipython3",
   "version": "3.9.12"
  }
 },
 "nbformat": 4,
 "nbformat_minor": 5
}
